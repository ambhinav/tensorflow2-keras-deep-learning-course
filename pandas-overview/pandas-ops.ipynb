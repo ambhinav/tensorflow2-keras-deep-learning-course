{
 "cells": [
  {
   "cell_type": "code",
   "execution_count": 87,
   "metadata": {
    "collapsed": true
   },
   "outputs": [],
   "source": [
    "import numpy as np\n",
    "import pandas as pd"
   ]
  },
  {
   "cell_type": "markdown",
   "source": [
    "# Pandas Series and Dataframes"
   ],
   "metadata": {
    "collapsed": false,
    "pycharm": {
     "name": "#%% md\n"
    }
   }
  },
  {
   "cell_type": "markdown",
   "source": [
    "## Series: Labelled Indexes"
   ],
   "metadata": {
    "collapsed": false,
    "pycharm": {
     "name": "#%% md\n"
    }
   }
  },
  {
   "cell_type": "code",
   "execution_count": 88,
   "outputs": [],
   "source": [
    "labels = ['a','b','c']\n",
    "myList = [10,20,30]\n",
    "arr = np.array([10,20,30])\n",
    "d = {'a': 10, 'b': 20, 'c': 30}"
   ],
   "metadata": {
    "collapsed": false,
    "pycharm": {
     "name": "#%%\n"
    }
   }
  },
  {
   "cell_type": "code",
   "execution_count": 89,
   "outputs": [],
   "source": [
    "ser = pd.Series(data=myList,index=labels)"
   ],
   "metadata": {
    "collapsed": false,
    "pycharm": {
     "name": "#%%\n"
    }
   }
  },
  {
   "cell_type": "markdown",
   "source": [
    "Now you can grab data from the panda series using either the index or the label"
   ],
   "metadata": {
    "collapsed": false,
    "pycharm": {
     "name": "#%% md\n"
    }
   }
  },
  {
   "cell_type": "code",
   "execution_count": 90,
   "outputs": [
    {
     "data": {
      "text/plain": "10"
     },
     "execution_count": 90,
     "metadata": {},
     "output_type": "execute_result"
    }
   ],
   "source": [
    "ser['a']"
   ],
   "metadata": {
    "collapsed": false,
    "pycharm": {
     "name": "#%%\n"
    }
   }
  },
  {
   "cell_type": "markdown",
   "source": [
    "Series can be created directly from dictionaries"
   ],
   "metadata": {
    "collapsed": false,
    "pycharm": {
     "name": "#%% md\n"
    }
   }
  },
  {
   "cell_type": "code",
   "execution_count": 91,
   "outputs": [
    {
     "data": {
      "text/plain": "a    10\nb    20\nc    30\ndtype: int64"
     },
     "execution_count": 91,
     "metadata": {},
     "output_type": "execute_result"
    }
   ],
   "source": [
    "pd.Series(d)"
   ],
   "metadata": {
    "collapsed": false,
    "pycharm": {
     "name": "#%%\n"
    }
   }
  },
  {
   "cell_type": "markdown",
   "source": [
    "### More complicated series..."
   ],
   "metadata": {
    "collapsed": false,
    "pycharm": {
     "name": "#%% md\n"
    }
   }
  },
  {
   "cell_type": "code",
   "execution_count": 92,
   "outputs": [],
   "source": [
    "salesQ1 = pd.Series(data=[250,450,200,150],index=['USA','China','India','Brazil'])"
   ],
   "metadata": {
    "collapsed": false,
    "pycharm": {
     "name": "#%%\n"
    }
   }
  },
  {
   "cell_type": "code",
   "execution_count": 93,
   "outputs": [
    {
     "data": {
      "text/plain": "USA       250\nChina     450\nIndia     200\nBrazil    150\ndtype: int64"
     },
     "execution_count": 93,
     "metadata": {},
     "output_type": "execute_result"
    }
   ],
   "source": [
    "salesQ1"
   ],
   "metadata": {
    "collapsed": false,
    "pycharm": {
     "name": "#%%\n"
    }
   }
  },
  {
   "cell_type": "code",
   "execution_count": 94,
   "outputs": [],
   "source": [
    "salesQ2 = pd.Series(data=[260,500,210,100],index=['USA','China','India','Japan'])"
   ],
   "metadata": {
    "collapsed": false,
    "pycharm": {
     "name": "#%%\n"
    }
   }
  },
  {
   "cell_type": "code",
   "execution_count": 95,
   "outputs": [
    {
     "data": {
      "text/plain": "USA      260\nChina    500\nIndia    210\nJapan    100\ndtype: int64"
     },
     "execution_count": 95,
     "metadata": {},
     "output_type": "execute_result"
    }
   ],
   "source": [
    "salesQ2"
   ],
   "metadata": {
    "collapsed": false,
    "pycharm": {
     "name": "#%%\n"
    }
   }
  },
  {
   "cell_type": "code",
   "execution_count": 96,
   "outputs": [
    {
     "data": {
      "text/plain": "500"
     },
     "execution_count": 96,
     "metadata": {},
     "output_type": "execute_result"
    }
   ],
   "source": [
    "salesQ2['China']"
   ],
   "metadata": {
    "collapsed": false,
    "pycharm": {
     "name": "#%%\n"
    }
   }
  },
  {
   "cell_type": "markdown",
   "source": [
    "### Operations between Series"
   ],
   "metadata": {
    "collapsed": false,
    "pycharm": {
     "name": "#%% md\n"
    }
   }
  },
  {
   "cell_type": "code",
   "execution_count": 97,
   "outputs": [
    {
     "data": {
      "text/plain": "Brazil      NaN\nChina     950.0\nIndia     410.0\nJapan       NaN\nUSA       510.0\ndtype: float64"
     },
     "execution_count": 97,
     "metadata": {},
     "output_type": "execute_result"
    }
   ],
   "source": [
    "salesQ1 + salesQ2"
   ],
   "metadata": {
    "collapsed": false,
    "pycharm": {
     "name": "#%%\n"
    }
   }
  },
  {
   "cell_type": "markdown",
   "source": [
    "Notice that for labels that do not appear in both series, a value of $$NaN$$ is returned."
   ],
   "metadata": {
    "collapsed": false,
    "pycharm": {
     "name": "#%% md\n"
    }
   }
  },
  {
   "cell_type": "markdown",
   "source": [
    "## Dataframes\n",
    "- Multiple pandas series that share the same index\n",
    "- Analogous to an excel spreadsheet"
   ],
   "metadata": {
    "collapsed": false,
    "pycharm": {
     "name": "#%% md\n"
    }
   }
  },
  {
   "cell_type": "code",
   "execution_count": 98,
   "outputs": [],
   "source": [
    "columns = ['W','X','Y','Z']\n",
    "index = ['A','B','C','D','E']"
   ],
   "metadata": {
    "collapsed": false,
    "pycharm": {
     "name": "#%%\n"
    }
   }
  },
  {
   "cell_type": "code",
   "execution_count": 99,
   "outputs": [],
   "source": [
    "from numpy.random import randint"
   ],
   "metadata": {
    "collapsed": false,
    "pycharm": {
     "name": "#%%\n"
    }
   }
  },
  {
   "cell_type": "code",
   "execution_count": 100,
   "outputs": [],
   "source": [
    "np.random.seed(42)\n",
    "data = randint(-100,100,(5,4))"
   ],
   "metadata": {
    "collapsed": false,
    "pycharm": {
     "name": "#%%\n"
    }
   }
  },
  {
   "cell_type": "code",
   "execution_count": 101,
   "outputs": [
    {
     "data": {
      "text/plain": "array([[  2,  79,  -8, -86],\n       [  6, -29,  88, -80],\n       [  2,  21, -26, -13],\n       [ 16,  -1,   3,  51],\n       [ 30,  49, -48, -99]])"
     },
     "execution_count": 101,
     "metadata": {},
     "output_type": "execute_result"
    }
   ],
   "source": [
    "data"
   ],
   "metadata": {
    "collapsed": false,
    "pycharm": {
     "name": "#%%\n"
    }
   }
  },
  {
   "cell_type": "markdown",
   "source": [
    "Lets create the dataframe"
   ],
   "metadata": {
    "collapsed": false,
    "pycharm": {
     "name": "#%% md\n"
    }
   }
  },
  {
   "cell_type": "code",
   "execution_count": 102,
   "outputs": [],
   "source": [
    "df = pd.DataFrame(data,index,columns)"
   ],
   "metadata": {
    "collapsed": false,
    "pycharm": {
     "name": "#%%\n"
    }
   }
  },
  {
   "cell_type": "code",
   "execution_count": 103,
   "outputs": [
    {
     "data": {
      "text/plain": "    W   X   Y   Z\nA   2  79  -8 -86\nB   6 -29  88 -80\nC   2  21 -26 -13\nD  16  -1   3  51\nE  30  49 -48 -99",
      "text/html": "<div>\n<style scoped>\n    .dataframe tbody tr th:only-of-type {\n        vertical-align: middle;\n    }\n\n    .dataframe tbody tr th {\n        vertical-align: top;\n    }\n\n    .dataframe thead th {\n        text-align: right;\n    }\n</style>\n<table border=\"1\" class=\"dataframe\">\n  <thead>\n    <tr style=\"text-align: right;\">\n      <th></th>\n      <th>W</th>\n      <th>X</th>\n      <th>Y</th>\n      <th>Z</th>\n    </tr>\n  </thead>\n  <tbody>\n    <tr>\n      <th>A</th>\n      <td>2</td>\n      <td>79</td>\n      <td>-8</td>\n      <td>-86</td>\n    </tr>\n    <tr>\n      <th>B</th>\n      <td>6</td>\n      <td>-29</td>\n      <td>88</td>\n      <td>-80</td>\n    </tr>\n    <tr>\n      <th>C</th>\n      <td>2</td>\n      <td>21</td>\n      <td>-26</td>\n      <td>-13</td>\n    </tr>\n    <tr>\n      <th>D</th>\n      <td>16</td>\n      <td>-1</td>\n      <td>3</td>\n      <td>51</td>\n    </tr>\n    <tr>\n      <th>E</th>\n      <td>30</td>\n      <td>49</td>\n      <td>-48</td>\n      <td>-99</td>\n    </tr>\n  </tbody>\n</table>\n</div>"
     },
     "execution_count": 103,
     "metadata": {},
     "output_type": "execute_result"
    }
   ],
   "source": [
    "df"
   ],
   "metadata": {
    "collapsed": false,
    "pycharm": {
     "name": "#%%\n"
    }
   }
  },
  {
   "cell_type": "markdown",
   "source": [
    "Recall that a dataframe consists of multiple series...\n",
    "\n",
    "Lets select a single column now:"
   ],
   "metadata": {
    "collapsed": false,
    "pycharm": {
     "name": "#%% md\n"
    }
   }
  },
  {
   "cell_type": "code",
   "execution_count": 104,
   "outputs": [
    {
     "data": {
      "text/plain": "A     2\nB     6\nC     2\nD    16\nE    30\nName: W, dtype: int64"
     },
     "execution_count": 104,
     "metadata": {},
     "output_type": "execute_result"
    }
   ],
   "source": [
    "df['W']"
   ],
   "metadata": {
    "collapsed": false,
    "pycharm": {
     "name": "#%%\n"
    }
   }
  },
  {
   "cell_type": "markdown",
   "source": [
    "Lets get a bunch of columns:\n",
    "\n",
    "Note that this will return a dataframe since it consists of multiple columns (series)"
   ],
   "metadata": {
    "collapsed": false,
    "pycharm": {
     "name": "#%% md\n"
    }
   }
  },
  {
   "cell_type": "code",
   "execution_count": 105,
   "outputs": [
    {
     "data": {
      "text/plain": "    W   Z\nA   2 -86\nB   6 -80\nC   2 -13\nD  16  51\nE  30 -99",
      "text/html": "<div>\n<style scoped>\n    .dataframe tbody tr th:only-of-type {\n        vertical-align: middle;\n    }\n\n    .dataframe tbody tr th {\n        vertical-align: top;\n    }\n\n    .dataframe thead th {\n        text-align: right;\n    }\n</style>\n<table border=\"1\" class=\"dataframe\">\n  <thead>\n    <tr style=\"text-align: right;\">\n      <th></th>\n      <th>W</th>\n      <th>Z</th>\n    </tr>\n  </thead>\n  <tbody>\n    <tr>\n      <th>A</th>\n      <td>2</td>\n      <td>-86</td>\n    </tr>\n    <tr>\n      <th>B</th>\n      <td>6</td>\n      <td>-80</td>\n    </tr>\n    <tr>\n      <th>C</th>\n      <td>2</td>\n      <td>-13</td>\n    </tr>\n    <tr>\n      <th>D</th>\n      <td>16</td>\n      <td>51</td>\n    </tr>\n    <tr>\n      <th>E</th>\n      <td>30</td>\n      <td>-99</td>\n    </tr>\n  </tbody>\n</table>\n</div>"
     },
     "execution_count": 105,
     "metadata": {},
     "output_type": "execute_result"
    }
   ],
   "source": [
    "df[['W','Z']]"
   ],
   "metadata": {
    "collapsed": false,
    "pycharm": {
     "name": "#%%\n"
    }
   }
  },
  {
   "cell_type": "markdown",
   "source": [
    "### Feature Engineering\n",
    "\n",
    "Creating/Deleting columns using existing data"
   ],
   "metadata": {
    "collapsed": false,
    "pycharm": {
     "name": "#%% md\n"
    }
   }
  },
  {
   "cell_type": "code",
   "execution_count": 106,
   "outputs": [],
   "source": [
    "df['new'] = df['W'] + df['Y']"
   ],
   "metadata": {
    "collapsed": false,
    "pycharm": {
     "name": "#%%\n"
    }
   }
  },
  {
   "cell_type": "code",
   "execution_count": 107,
   "outputs": [
    {
     "data": {
      "text/plain": "    W   X   Y   Z  new\nA   2  79  -8 -86   -6\nB   6 -29  88 -80   94\nC   2  21 -26 -13  -24\nD  16  -1   3  51   19\nE  30  49 -48 -99  -18",
      "text/html": "<div>\n<style scoped>\n    .dataframe tbody tr th:only-of-type {\n        vertical-align: middle;\n    }\n\n    .dataframe tbody tr th {\n        vertical-align: top;\n    }\n\n    .dataframe thead th {\n        text-align: right;\n    }\n</style>\n<table border=\"1\" class=\"dataframe\">\n  <thead>\n    <tr style=\"text-align: right;\">\n      <th></th>\n      <th>W</th>\n      <th>X</th>\n      <th>Y</th>\n      <th>Z</th>\n      <th>new</th>\n    </tr>\n  </thead>\n  <tbody>\n    <tr>\n      <th>A</th>\n      <td>2</td>\n      <td>79</td>\n      <td>-8</td>\n      <td>-86</td>\n      <td>-6</td>\n    </tr>\n    <tr>\n      <th>B</th>\n      <td>6</td>\n      <td>-29</td>\n      <td>88</td>\n      <td>-80</td>\n      <td>94</td>\n    </tr>\n    <tr>\n      <th>C</th>\n      <td>2</td>\n      <td>21</td>\n      <td>-26</td>\n      <td>-13</td>\n      <td>-24</td>\n    </tr>\n    <tr>\n      <th>D</th>\n      <td>16</td>\n      <td>-1</td>\n      <td>3</td>\n      <td>51</td>\n      <td>19</td>\n    </tr>\n    <tr>\n      <th>E</th>\n      <td>30</td>\n      <td>49</td>\n      <td>-48</td>\n      <td>-99</td>\n      <td>-18</td>\n    </tr>\n  </tbody>\n</table>\n</div>"
     },
     "execution_count": 107,
     "metadata": {},
     "output_type": "execute_result"
    }
   ],
   "source": [
    "df"
   ],
   "metadata": {
    "collapsed": false,
    "pycharm": {
     "name": "#%%\n"
    }
   }
  },
  {
   "cell_type": "markdown",
   "source": [
    "Removing data if data is too noisy etc..."
   ],
   "metadata": {
    "collapsed": false,
    "pycharm": {
     "name": "#%% md\n"
    }
   }
  },
  {
   "cell_type": "code",
   "execution_count": 108,
   "outputs": [
    {
     "data": {
      "text/plain": "    W   X   Y   Z\nA   2  79  -8 -86\nB   6 -29  88 -80\nC   2  21 -26 -13\nD  16  -1   3  51\nE  30  49 -48 -99",
      "text/html": "<div>\n<style scoped>\n    .dataframe tbody tr th:only-of-type {\n        vertical-align: middle;\n    }\n\n    .dataframe tbody tr th {\n        vertical-align: top;\n    }\n\n    .dataframe thead th {\n        text-align: right;\n    }\n</style>\n<table border=\"1\" class=\"dataframe\">\n  <thead>\n    <tr style=\"text-align: right;\">\n      <th></th>\n      <th>W</th>\n      <th>X</th>\n      <th>Y</th>\n      <th>Z</th>\n    </tr>\n  </thead>\n  <tbody>\n    <tr>\n      <th>A</th>\n      <td>2</td>\n      <td>79</td>\n      <td>-8</td>\n      <td>-86</td>\n    </tr>\n    <tr>\n      <th>B</th>\n      <td>6</td>\n      <td>-29</td>\n      <td>88</td>\n      <td>-80</td>\n    </tr>\n    <tr>\n      <th>C</th>\n      <td>2</td>\n      <td>21</td>\n      <td>-26</td>\n      <td>-13</td>\n    </tr>\n    <tr>\n      <th>D</th>\n      <td>16</td>\n      <td>-1</td>\n      <td>3</td>\n      <td>51</td>\n    </tr>\n    <tr>\n      <th>E</th>\n      <td>30</td>\n      <td>49</td>\n      <td>-48</td>\n      <td>-99</td>\n    </tr>\n  </tbody>\n</table>\n</div>"
     },
     "execution_count": 108,
     "metadata": {},
     "output_type": "execute_result"
    }
   ],
   "source": [
    "df.drop('new',axis=1)"
   ],
   "metadata": {
    "collapsed": false,
    "pycharm": {
     "name": "#%%\n"
    }
   }
  },
  {
   "cell_type": "markdown",
   "source": [
    "Note that the above is not done in place\n"
   ],
   "metadata": {
    "collapsed": false,
    "pycharm": {
     "name": "#%% md\n"
    }
   }
  },
  {
   "cell_type": "code",
   "execution_count": 109,
   "outputs": [
    {
     "data": {
      "text/plain": "    W   X   Y   Z  new\nA   2  79  -8 -86   -6\nB   6 -29  88 -80   94\nC   2  21 -26 -13  -24\nD  16  -1   3  51   19\nE  30  49 -48 -99  -18",
      "text/html": "<div>\n<style scoped>\n    .dataframe tbody tr th:only-of-type {\n        vertical-align: middle;\n    }\n\n    .dataframe tbody tr th {\n        vertical-align: top;\n    }\n\n    .dataframe thead th {\n        text-align: right;\n    }\n</style>\n<table border=\"1\" class=\"dataframe\">\n  <thead>\n    <tr style=\"text-align: right;\">\n      <th></th>\n      <th>W</th>\n      <th>X</th>\n      <th>Y</th>\n      <th>Z</th>\n      <th>new</th>\n    </tr>\n  </thead>\n  <tbody>\n    <tr>\n      <th>A</th>\n      <td>2</td>\n      <td>79</td>\n      <td>-8</td>\n      <td>-86</td>\n      <td>-6</td>\n    </tr>\n    <tr>\n      <th>B</th>\n      <td>6</td>\n      <td>-29</td>\n      <td>88</td>\n      <td>-80</td>\n      <td>94</td>\n    </tr>\n    <tr>\n      <th>C</th>\n      <td>2</td>\n      <td>21</td>\n      <td>-26</td>\n      <td>-13</td>\n      <td>-24</td>\n    </tr>\n    <tr>\n      <th>D</th>\n      <td>16</td>\n      <td>-1</td>\n      <td>3</td>\n      <td>51</td>\n      <td>19</td>\n    </tr>\n    <tr>\n      <th>E</th>\n      <td>30</td>\n      <td>49</td>\n      <td>-48</td>\n      <td>-99</td>\n      <td>-18</td>\n    </tr>\n  </tbody>\n</table>\n</div>"
     },
     "execution_count": 109,
     "metadata": {},
     "output_type": "execute_result"
    }
   ],
   "source": [
    "df"
   ],
   "metadata": {
    "collapsed": false,
    "pycharm": {
     "name": "#%%\n"
    }
   }
  },
  {
   "cell_type": "code",
   "execution_count": 110,
   "outputs": [],
   "source": [
    "df = df.drop('new',axis=1)"
   ],
   "metadata": {
    "collapsed": false,
    "pycharm": {
     "name": "#%%\n"
    }
   }
  },
  {
   "cell_type": "markdown",
   "source": [
    "Lets do the same stuff now for rows! Since row and column names could overlap,\n",
    "when manipulating rows use $$\\textbf{df.loc[ ]}$$"
   ],
   "metadata": {
    "collapsed": false,
    "pycharm": {
     "name": "#%% md\n"
    }
   }
  },
  {
   "cell_type": "code",
   "execution_count": 111,
   "outputs": [
    {
     "data": {
      "text/plain": "W     2\nX    79\nY    -8\nZ   -86\nName: A, dtype: int64"
     },
     "execution_count": 111,
     "metadata": {},
     "output_type": "execute_result"
    }
   ],
   "source": [
    "df.loc['A']"
   ],
   "metadata": {
    "collapsed": false,
    "pycharm": {
     "name": "#%%\n"
    }
   }
  },
  {
   "cell_type": "code",
   "execution_count": 112,
   "outputs": [
    {
     "data": {
      "text/plain": "    W   X   Y   Z\nA   2  79  -8 -86\nE  30  49 -48 -99",
      "text/html": "<div>\n<style scoped>\n    .dataframe tbody tr th:only-of-type {\n        vertical-align: middle;\n    }\n\n    .dataframe tbody tr th {\n        vertical-align: top;\n    }\n\n    .dataframe thead th {\n        text-align: right;\n    }\n</style>\n<table border=\"1\" class=\"dataframe\">\n  <thead>\n    <tr style=\"text-align: right;\">\n      <th></th>\n      <th>W</th>\n      <th>X</th>\n      <th>Y</th>\n      <th>Z</th>\n    </tr>\n  </thead>\n  <tbody>\n    <tr>\n      <th>A</th>\n      <td>2</td>\n      <td>79</td>\n      <td>-8</td>\n      <td>-86</td>\n    </tr>\n    <tr>\n      <th>E</th>\n      <td>30</td>\n      <td>49</td>\n      <td>-48</td>\n      <td>-99</td>\n    </tr>\n  </tbody>\n</table>\n</div>"
     },
     "execution_count": 112,
     "metadata": {},
     "output_type": "execute_result"
    }
   ],
   "source": [
    "df.loc[['A', 'E']]"
   ],
   "metadata": {
    "collapsed": false,
    "pycharm": {
     "name": "#%%\n"
    }
   }
  },
  {
   "cell_type": "markdown",
   "source": [
    "Note that you can also do pythonic list indexing"
   ],
   "metadata": {
    "collapsed": false,
    "pycharm": {
     "name": "#%% md\n"
    }
   }
  },
  {
   "cell_type": "code",
   "execution_count": 113,
   "outputs": [
    {
     "data": {
      "text/plain": "   W   X   Y   Z\nA  2  79  -8 -86\nB  6 -29  88 -80\nC  2  21 -26 -13",
      "text/html": "<div>\n<style scoped>\n    .dataframe tbody tr th:only-of-type {\n        vertical-align: middle;\n    }\n\n    .dataframe tbody tr th {\n        vertical-align: top;\n    }\n\n    .dataframe thead th {\n        text-align: right;\n    }\n</style>\n<table border=\"1\" class=\"dataframe\">\n  <thead>\n    <tr style=\"text-align: right;\">\n      <th></th>\n      <th>W</th>\n      <th>X</th>\n      <th>Y</th>\n      <th>Z</th>\n    </tr>\n  </thead>\n  <tbody>\n    <tr>\n      <th>A</th>\n      <td>2</td>\n      <td>79</td>\n      <td>-8</td>\n      <td>-86</td>\n    </tr>\n    <tr>\n      <th>B</th>\n      <td>6</td>\n      <td>-29</td>\n      <td>88</td>\n      <td>-80</td>\n    </tr>\n    <tr>\n      <th>C</th>\n      <td>2</td>\n      <td>21</td>\n      <td>-26</td>\n      <td>-13</td>\n    </tr>\n  </tbody>\n</table>\n</div>"
     },
     "execution_count": 113,
     "metadata": {},
     "output_type": "execute_result"
    }
   ],
   "source": [
    "df.iloc[:3]"
   ],
   "metadata": {
    "collapsed": false,
    "pycharm": {
     "name": "#%%\n"
    }
   }
  },
  {
   "cell_type": "code",
   "execution_count": 114,
   "outputs": [
    {
     "data": {
      "text/plain": "    W   X   Y   Z\nA   2  79  -8 -86\nB   6 -29  88 -80\nD  16  -1   3  51\nE  30  49 -48 -99",
      "text/html": "<div>\n<style scoped>\n    .dataframe tbody tr th:only-of-type {\n        vertical-align: middle;\n    }\n\n    .dataframe tbody tr th {\n        vertical-align: top;\n    }\n\n    .dataframe thead th {\n        text-align: right;\n    }\n</style>\n<table border=\"1\" class=\"dataframe\">\n  <thead>\n    <tr style=\"text-align: right;\">\n      <th></th>\n      <th>W</th>\n      <th>X</th>\n      <th>Y</th>\n      <th>Z</th>\n    </tr>\n  </thead>\n  <tbody>\n    <tr>\n      <th>A</th>\n      <td>2</td>\n      <td>79</td>\n      <td>-8</td>\n      <td>-86</td>\n    </tr>\n    <tr>\n      <th>B</th>\n      <td>6</td>\n      <td>-29</td>\n      <td>88</td>\n      <td>-80</td>\n    </tr>\n    <tr>\n      <th>D</th>\n      <td>16</td>\n      <td>-1</td>\n      <td>3</td>\n      <td>51</td>\n    </tr>\n    <tr>\n      <th>E</th>\n      <td>30</td>\n      <td>49</td>\n      <td>-48</td>\n      <td>-99</td>\n    </tr>\n  </tbody>\n</table>\n</div>"
     },
     "execution_count": 114,
     "metadata": {},
     "output_type": "execute_result"
    }
   ],
   "source": [
    "df.drop('C')"
   ],
   "metadata": {
    "collapsed": false,
    "pycharm": {
     "name": "#%%\n"
    }
   }
  },
  {
   "cell_type": "code",
   "execution_count": 115,
   "outputs": [
    {
     "data": {
      "text/plain": "    W   X   Y   Z\nA   2  79  -8 -86\nB   6 -29  88 -80\nC   2  21 -26 -13\nD  16  -1   3  51\nE  30  49 -48 -99",
      "text/html": "<div>\n<style scoped>\n    .dataframe tbody tr th:only-of-type {\n        vertical-align: middle;\n    }\n\n    .dataframe tbody tr th {\n        vertical-align: top;\n    }\n\n    .dataframe thead th {\n        text-align: right;\n    }\n</style>\n<table border=\"1\" class=\"dataframe\">\n  <thead>\n    <tr style=\"text-align: right;\">\n      <th></th>\n      <th>W</th>\n      <th>X</th>\n      <th>Y</th>\n      <th>Z</th>\n    </tr>\n  </thead>\n  <tbody>\n    <tr>\n      <th>A</th>\n      <td>2</td>\n      <td>79</td>\n      <td>-8</td>\n      <td>-86</td>\n    </tr>\n    <tr>\n      <th>B</th>\n      <td>6</td>\n      <td>-29</td>\n      <td>88</td>\n      <td>-80</td>\n    </tr>\n    <tr>\n      <th>C</th>\n      <td>2</td>\n      <td>21</td>\n      <td>-26</td>\n      <td>-13</td>\n    </tr>\n    <tr>\n      <th>D</th>\n      <td>16</td>\n      <td>-1</td>\n      <td>3</td>\n      <td>51</td>\n    </tr>\n    <tr>\n      <th>E</th>\n      <td>30</td>\n      <td>49</td>\n      <td>-48</td>\n      <td>-99</td>\n    </tr>\n  </tbody>\n</table>\n</div>"
     },
     "execution_count": 115,
     "metadata": {},
     "output_type": "execute_result"
    }
   ],
   "source": [
    "df"
   ],
   "metadata": {
    "collapsed": false,
    "pycharm": {
     "name": "#%%\n"
    }
   }
  },
  {
   "cell_type": "markdown",
   "source": [
    "Fetch data using this method:"
   ],
   "metadata": {
    "collapsed": false,
    "pycharm": {
     "name": "#%% md\n"
    }
   }
  },
  {
   "cell_type": "code",
   "execution_count": 116,
   "outputs": [
    {
     "data": {
      "text/plain": "2"
     },
     "execution_count": 116,
     "metadata": {},
     "output_type": "execute_result"
    }
   ],
   "source": [
    "df.loc['A','W']"
   ],
   "metadata": {
    "collapsed": false,
    "pycharm": {
     "name": "#%%\n"
    }
   }
  },
  {
   "cell_type": "code",
   "execution_count": 117,
   "outputs": [
    {
     "data": {
      "text/plain": "   W   Y\nA  2  -8\nC  2 -26",
      "text/html": "<div>\n<style scoped>\n    .dataframe tbody tr th:only-of-type {\n        vertical-align: middle;\n    }\n\n    .dataframe tbody tr th {\n        vertical-align: top;\n    }\n\n    .dataframe thead th {\n        text-align: right;\n    }\n</style>\n<table border=\"1\" class=\"dataframe\">\n  <thead>\n    <tr style=\"text-align: right;\">\n      <th></th>\n      <th>W</th>\n      <th>Y</th>\n    </tr>\n  </thead>\n  <tbody>\n    <tr>\n      <th>A</th>\n      <td>2</td>\n      <td>-8</td>\n    </tr>\n    <tr>\n      <th>C</th>\n      <td>2</td>\n      <td>-26</td>\n    </tr>\n  </tbody>\n</table>\n</div>"
     },
     "execution_count": 117,
     "metadata": {},
     "output_type": "execute_result"
    }
   ],
   "source": [
    "df.loc[['A','C'],['W','Y']]"
   ],
   "metadata": {
    "collapsed": false,
    "pycharm": {
     "name": "#%%\n"
    }
   }
  },
  {
   "cell_type": "markdown",
   "source": [
    "### Filtering dataframes"
   ],
   "metadata": {
    "collapsed": false,
    "pycharm": {
     "name": "#%% md\n"
    }
   }
  },
  {
   "cell_type": "code",
   "execution_count": 118,
   "outputs": [
    {
     "data": {
      "text/plain": "    W     X     Y     Z\nA   2  79.0   NaN   NaN\nB   6   NaN  88.0   NaN\nC   2  21.0   NaN   NaN\nD  16   NaN   3.0  51.0\nE  30  49.0   NaN   NaN",
      "text/html": "<div>\n<style scoped>\n    .dataframe tbody tr th:only-of-type {\n        vertical-align: middle;\n    }\n\n    .dataframe tbody tr th {\n        vertical-align: top;\n    }\n\n    .dataframe thead th {\n        text-align: right;\n    }\n</style>\n<table border=\"1\" class=\"dataframe\">\n  <thead>\n    <tr style=\"text-align: right;\">\n      <th></th>\n      <th>W</th>\n      <th>X</th>\n      <th>Y</th>\n      <th>Z</th>\n    </tr>\n  </thead>\n  <tbody>\n    <tr>\n      <th>A</th>\n      <td>2</td>\n      <td>79.0</td>\n      <td>NaN</td>\n      <td>NaN</td>\n    </tr>\n    <tr>\n      <th>B</th>\n      <td>6</td>\n      <td>NaN</td>\n      <td>88.0</td>\n      <td>NaN</td>\n    </tr>\n    <tr>\n      <th>C</th>\n      <td>2</td>\n      <td>21.0</td>\n      <td>NaN</td>\n      <td>NaN</td>\n    </tr>\n    <tr>\n      <th>D</th>\n      <td>16</td>\n      <td>NaN</td>\n      <td>3.0</td>\n      <td>51.0</td>\n    </tr>\n    <tr>\n      <th>E</th>\n      <td>30</td>\n      <td>49.0</td>\n      <td>NaN</td>\n      <td>NaN</td>\n    </tr>\n  </tbody>\n</table>\n</div>"
     },
     "execution_count": 118,
     "metadata": {},
     "output_type": "execute_result"
    }
   ],
   "source": [
    "df[df > 0]"
   ],
   "metadata": {
    "collapsed": false,
    "pycharm": {
     "name": "#%%\n"
    }
   }
  },
  {
   "cell_type": "markdown",
   "source": [
    "A use case is filtering based on features. This will return rows that meet the condition\n",
    "specified.\n"
   ],
   "metadata": {
    "collapsed": false,
    "pycharm": {
     "name": "#%% md\n"
    }
   }
  },
  {
   "cell_type": "code",
   "execution_count": 119,
   "outputs": [
    {
     "data": {
      "text/plain": "    W   X   Y   Z\nA   2  79  -8 -86\nC   2  21 -26 -13\nE  30  49 -48 -99",
      "text/html": "<div>\n<style scoped>\n    .dataframe tbody tr th:only-of-type {\n        vertical-align: middle;\n    }\n\n    .dataframe tbody tr th {\n        vertical-align: top;\n    }\n\n    .dataframe thead th {\n        text-align: right;\n    }\n</style>\n<table border=\"1\" class=\"dataframe\">\n  <thead>\n    <tr style=\"text-align: right;\">\n      <th></th>\n      <th>W</th>\n      <th>X</th>\n      <th>Y</th>\n      <th>Z</th>\n    </tr>\n  </thead>\n  <tbody>\n    <tr>\n      <th>A</th>\n      <td>2</td>\n      <td>79</td>\n      <td>-8</td>\n      <td>-86</td>\n    </tr>\n    <tr>\n      <th>C</th>\n      <td>2</td>\n      <td>21</td>\n      <td>-26</td>\n      <td>-13</td>\n    </tr>\n    <tr>\n      <th>E</th>\n      <td>30</td>\n      <td>49</td>\n      <td>-48</td>\n      <td>-99</td>\n    </tr>\n  </tbody>\n</table>\n</div>"
     },
     "execution_count": 119,
     "metadata": {},
     "output_type": "execute_result"
    }
   ],
   "source": [
    "df[df['X']>0]"
   ],
   "metadata": {
    "collapsed": false,
    "pycharm": {
     "name": "#%%\n"
    }
   }
  },
  {
   "cell_type": "code",
   "execution_count": 120,
   "outputs": [
    {
     "data": {
      "text/plain": "A     2\nC     2\nE    30\nName: W, dtype: int64"
     },
     "execution_count": 120,
     "metadata": {},
     "output_type": "execute_result"
    }
   ],
   "source": [
    "df[df['X']>0]['W']"
   ],
   "metadata": {
    "collapsed": false,
    "pycharm": {
     "name": "#%%\n"
    }
   }
  },
  {
   "cell_type": "markdown",
   "source": [
    "One can filter based on multiple conditions as well:"
   ],
   "metadata": {
    "collapsed": false,
    "pycharm": {
     "name": "#%% md\n"
    }
   }
  },
  {
   "cell_type": "code",
   "execution_count": 121,
   "outputs": [
    {
     "data": {
      "text/plain": "    W   X   Y   Z\nB   6 -29  88 -80\nD  16  -1   3  51",
      "text/html": "<div>\n<style scoped>\n    .dataframe tbody tr th:only-of-type {\n        vertical-align: middle;\n    }\n\n    .dataframe tbody tr th {\n        vertical-align: top;\n    }\n\n    .dataframe thead th {\n        text-align: right;\n    }\n</style>\n<table border=\"1\" class=\"dataframe\">\n  <thead>\n    <tr style=\"text-align: right;\">\n      <th></th>\n      <th>W</th>\n      <th>X</th>\n      <th>Y</th>\n      <th>Z</th>\n    </tr>\n  </thead>\n  <tbody>\n    <tr>\n      <th>B</th>\n      <td>6</td>\n      <td>-29</td>\n      <td>88</td>\n      <td>-80</td>\n    </tr>\n    <tr>\n      <th>D</th>\n      <td>16</td>\n      <td>-1</td>\n      <td>3</td>\n      <td>51</td>\n    </tr>\n  </tbody>\n</table>\n</div>"
     },
     "execution_count": 121,
     "metadata": {},
     "output_type": "execute_result"
    }
   ],
   "source": [
    "df[(df['W']>0) & (df['Y']>1)]"
   ],
   "metadata": {
    "collapsed": false,
    "pycharm": {
     "name": "#%%\n"
    }
   }
  },
  {
   "cell_type": "markdown",
   "source": [
    "Resetting index is possible"
   ],
   "metadata": {
    "collapsed": false,
    "pycharm": {
     "name": "#%% md\n"
    }
   }
  },
  {
   "cell_type": "code",
   "execution_count": 122,
   "outputs": [
    {
     "data": {
      "text/plain": "  index   W   X   Y   Z\n0     A   2  79  -8 -86\n1     B   6 -29  88 -80\n2     C   2  21 -26 -13\n3     D  16  -1   3  51\n4     E  30  49 -48 -99",
      "text/html": "<div>\n<style scoped>\n    .dataframe tbody tr th:only-of-type {\n        vertical-align: middle;\n    }\n\n    .dataframe tbody tr th {\n        vertical-align: top;\n    }\n\n    .dataframe thead th {\n        text-align: right;\n    }\n</style>\n<table border=\"1\" class=\"dataframe\">\n  <thead>\n    <tr style=\"text-align: right;\">\n      <th></th>\n      <th>index</th>\n      <th>W</th>\n      <th>X</th>\n      <th>Y</th>\n      <th>Z</th>\n    </tr>\n  </thead>\n  <tbody>\n    <tr>\n      <th>0</th>\n      <td>A</td>\n      <td>2</td>\n      <td>79</td>\n      <td>-8</td>\n      <td>-86</td>\n    </tr>\n    <tr>\n      <th>1</th>\n      <td>B</td>\n      <td>6</td>\n      <td>-29</td>\n      <td>88</td>\n      <td>-80</td>\n    </tr>\n    <tr>\n      <th>2</th>\n      <td>C</td>\n      <td>2</td>\n      <td>21</td>\n      <td>-26</td>\n      <td>-13</td>\n    </tr>\n    <tr>\n      <th>3</th>\n      <td>D</td>\n      <td>16</td>\n      <td>-1</td>\n      <td>3</td>\n      <td>51</td>\n    </tr>\n    <tr>\n      <th>4</th>\n      <td>E</td>\n      <td>30</td>\n      <td>49</td>\n      <td>-48</td>\n      <td>-99</td>\n    </tr>\n  </tbody>\n</table>\n</div>"
     },
     "execution_count": 122,
     "metadata": {},
     "output_type": "execute_result"
    }
   ],
   "source": [
    "df.reset_index()"
   ],
   "metadata": {
    "collapsed": false,
    "pycharm": {
     "name": "#%%\n"
    }
   }
  },
  {
   "cell_type": "markdown",
   "source": [
    "Use a column as index\n"
   ],
   "metadata": {
    "collapsed": false,
    "pycharm": {
     "name": "#%% md\n"
    }
   }
  },
  {
   "cell_type": "code",
   "execution_count": 123,
   "outputs": [],
   "source": [
    "new_ind = ['CA','NY','WY','OR','CO']"
   ],
   "metadata": {
    "collapsed": false,
    "pycharm": {
     "name": "#%%\n"
    }
   }
  },
  {
   "cell_type": "code",
   "execution_count": 124,
   "outputs": [],
   "source": [
    "df['States'] = new_ind"
   ],
   "metadata": {
    "collapsed": false,
    "pycharm": {
     "name": "#%%\n"
    }
   }
  },
  {
   "cell_type": "code",
   "execution_count": 125,
   "outputs": [
    {
     "data": {
      "text/plain": "    W   X   Y   Z States\nA   2  79  -8 -86     CA\nB   6 -29  88 -80     NY\nC   2  21 -26 -13     WY\nD  16  -1   3  51     OR\nE  30  49 -48 -99     CO",
      "text/html": "<div>\n<style scoped>\n    .dataframe tbody tr th:only-of-type {\n        vertical-align: middle;\n    }\n\n    .dataframe tbody tr th {\n        vertical-align: top;\n    }\n\n    .dataframe thead th {\n        text-align: right;\n    }\n</style>\n<table border=\"1\" class=\"dataframe\">\n  <thead>\n    <tr style=\"text-align: right;\">\n      <th></th>\n      <th>W</th>\n      <th>X</th>\n      <th>Y</th>\n      <th>Z</th>\n      <th>States</th>\n    </tr>\n  </thead>\n  <tbody>\n    <tr>\n      <th>A</th>\n      <td>2</td>\n      <td>79</td>\n      <td>-8</td>\n      <td>-86</td>\n      <td>CA</td>\n    </tr>\n    <tr>\n      <th>B</th>\n      <td>6</td>\n      <td>-29</td>\n      <td>88</td>\n      <td>-80</td>\n      <td>NY</td>\n    </tr>\n    <tr>\n      <th>C</th>\n      <td>2</td>\n      <td>21</td>\n      <td>-26</td>\n      <td>-13</td>\n      <td>WY</td>\n    </tr>\n    <tr>\n      <th>D</th>\n      <td>16</td>\n      <td>-1</td>\n      <td>3</td>\n      <td>51</td>\n      <td>OR</td>\n    </tr>\n    <tr>\n      <th>E</th>\n      <td>30</td>\n      <td>49</td>\n      <td>-48</td>\n      <td>-99</td>\n      <td>CO</td>\n    </tr>\n  </tbody>\n</table>\n</div>"
     },
     "execution_count": 125,
     "metadata": {},
     "output_type": "execute_result"
    }
   ],
   "source": [
    "df"
   ],
   "metadata": {
    "collapsed": false,
    "pycharm": {
     "name": "#%%\n"
    }
   }
  },
  {
   "cell_type": "code",
   "execution_count": 126,
   "outputs": [
    {
     "data": {
      "text/plain": "         W   X   Y   Z\nStates                \nCA       2  79  -8 -86\nNY       6 -29  88 -80\nWY       2  21 -26 -13\nOR      16  -1   3  51\nCO      30  49 -48 -99",
      "text/html": "<div>\n<style scoped>\n    .dataframe tbody tr th:only-of-type {\n        vertical-align: middle;\n    }\n\n    .dataframe tbody tr th {\n        vertical-align: top;\n    }\n\n    .dataframe thead th {\n        text-align: right;\n    }\n</style>\n<table border=\"1\" class=\"dataframe\">\n  <thead>\n    <tr style=\"text-align: right;\">\n      <th></th>\n      <th>W</th>\n      <th>X</th>\n      <th>Y</th>\n      <th>Z</th>\n    </tr>\n    <tr>\n      <th>States</th>\n      <th></th>\n      <th></th>\n      <th></th>\n      <th></th>\n    </tr>\n  </thead>\n  <tbody>\n    <tr>\n      <th>CA</th>\n      <td>2</td>\n      <td>79</td>\n      <td>-8</td>\n      <td>-86</td>\n    </tr>\n    <tr>\n      <th>NY</th>\n      <td>6</td>\n      <td>-29</td>\n      <td>88</td>\n      <td>-80</td>\n    </tr>\n    <tr>\n      <th>WY</th>\n      <td>2</td>\n      <td>21</td>\n      <td>-26</td>\n      <td>-13</td>\n    </tr>\n    <tr>\n      <th>OR</th>\n      <td>16</td>\n      <td>-1</td>\n      <td>3</td>\n      <td>51</td>\n    </tr>\n    <tr>\n      <th>CO</th>\n      <td>30</td>\n      <td>49</td>\n      <td>-48</td>\n      <td>-99</td>\n    </tr>\n  </tbody>\n</table>\n</div>"
     },
     "execution_count": 126,
     "metadata": {},
     "output_type": "execute_result"
    }
   ],
   "source": [
    "df.set_index('States')"
   ],
   "metadata": {
    "collapsed": false,
    "pycharm": {
     "name": "#%%\n"
    }
   }
  },
  {
   "cell_type": "markdown",
   "source": [
    "### Summary stats\n"
   ],
   "metadata": {
    "collapsed": false,
    "pycharm": {
     "name": "#%% md\n"
    }
   }
  },
  {
   "cell_type": "code",
   "execution_count": 127,
   "outputs": [
    {
     "data": {
      "text/plain": "              W          X          Y          Z\ncount   5.00000   5.000000   5.000000   5.000000\nmean   11.20000  23.800000   1.800000 -45.400000\nstd    11.96662  42.109381  51.915316  63.366395\nmin     2.00000 -29.000000 -48.000000 -99.000000\n25%     2.00000  -1.000000 -26.000000 -86.000000\n50%     6.00000  21.000000  -8.000000 -80.000000\n75%    16.00000  49.000000   3.000000 -13.000000\nmax    30.00000  79.000000  88.000000  51.000000",
      "text/html": "<div>\n<style scoped>\n    .dataframe tbody tr th:only-of-type {\n        vertical-align: middle;\n    }\n\n    .dataframe tbody tr th {\n        vertical-align: top;\n    }\n\n    .dataframe thead th {\n        text-align: right;\n    }\n</style>\n<table border=\"1\" class=\"dataframe\">\n  <thead>\n    <tr style=\"text-align: right;\">\n      <th></th>\n      <th>W</th>\n      <th>X</th>\n      <th>Y</th>\n      <th>Z</th>\n    </tr>\n  </thead>\n  <tbody>\n    <tr>\n      <th>count</th>\n      <td>5.00000</td>\n      <td>5.000000</td>\n      <td>5.000000</td>\n      <td>5.000000</td>\n    </tr>\n    <tr>\n      <th>mean</th>\n      <td>11.20000</td>\n      <td>23.800000</td>\n      <td>1.800000</td>\n      <td>-45.400000</td>\n    </tr>\n    <tr>\n      <th>std</th>\n      <td>11.96662</td>\n      <td>42.109381</td>\n      <td>51.915316</td>\n      <td>63.366395</td>\n    </tr>\n    <tr>\n      <th>min</th>\n      <td>2.00000</td>\n      <td>-29.000000</td>\n      <td>-48.000000</td>\n      <td>-99.000000</td>\n    </tr>\n    <tr>\n      <th>25%</th>\n      <td>2.00000</td>\n      <td>-1.000000</td>\n      <td>-26.000000</td>\n      <td>-86.000000</td>\n    </tr>\n    <tr>\n      <th>50%</th>\n      <td>6.00000</td>\n      <td>21.000000</td>\n      <td>-8.000000</td>\n      <td>-80.000000</td>\n    </tr>\n    <tr>\n      <th>75%</th>\n      <td>16.00000</td>\n      <td>49.000000</td>\n      <td>3.000000</td>\n      <td>-13.000000</td>\n    </tr>\n    <tr>\n      <th>max</th>\n      <td>30.00000</td>\n      <td>79.000000</td>\n      <td>88.000000</td>\n      <td>51.000000</td>\n    </tr>\n  </tbody>\n</table>\n</div>"
     },
     "execution_count": 127,
     "metadata": {},
     "output_type": "execute_result"
    }
   ],
   "source": [
    "df.describe()"
   ],
   "metadata": {
    "collapsed": false,
    "pycharm": {
     "name": "#%%\n"
    }
   }
  },
  {
   "cell_type": "markdown",
   "source": [
    "# Dealing with missing data\n",
    "How to deal with it?\n",
    "- Do nothing\n",
    "- Remove it\n",
    "    - Large percentage missing?\n",
    "        - If the missing data is from the feature column, just remove that column\n",
    "    - Small percentage missing?\n",
    "        - Drop the corresponding rows\n",
    "- Fill it in (Hardest)\n",
    "    - A non-trivial percentage is missing & the data point rows are important\n",
    "    - Strategies:\n",
    "        - Fill in with one of Mode, median, mean\n",
    "        - Base the new value off another feature column, conceive of a reasonable value\n"
   ],
   "metadata": {
    "collapsed": false,
    "pycharm": {
     "name": "#%% md\n"
    }
   }
  },
  {
   "cell_type": "code",
   "execution_count": 128,
   "outputs": [],
   "source": [
    "df_missing = pd.DataFrame({\n",
    "    'A': [1,2,np.nan,4],\n",
    "    'B': [5,np.nan,np.nan,8],\n",
    "    'C': [10,20,30,40]\n",
    "})\n"
   ],
   "metadata": {
    "collapsed": false,
    "pycharm": {
     "name": "#%%\n"
    }
   }
  },
  {
   "cell_type": "code",
   "execution_count": 129,
   "outputs": [
    {
     "data": {
      "text/plain": "     A    B   C\n0  1.0  5.0  10\n1  2.0  NaN  20\n2  NaN  NaN  30\n3  4.0  8.0  40",
      "text/html": "<div>\n<style scoped>\n    .dataframe tbody tr th:only-of-type {\n        vertical-align: middle;\n    }\n\n    .dataframe tbody tr th {\n        vertical-align: top;\n    }\n\n    .dataframe thead th {\n        text-align: right;\n    }\n</style>\n<table border=\"1\" class=\"dataframe\">\n  <thead>\n    <tr style=\"text-align: right;\">\n      <th></th>\n      <th>A</th>\n      <th>B</th>\n      <th>C</th>\n    </tr>\n  </thead>\n  <tbody>\n    <tr>\n      <th>0</th>\n      <td>1.0</td>\n      <td>5.0</td>\n      <td>10</td>\n    </tr>\n    <tr>\n      <th>1</th>\n      <td>2.0</td>\n      <td>NaN</td>\n      <td>20</td>\n    </tr>\n    <tr>\n      <th>2</th>\n      <td>NaN</td>\n      <td>NaN</td>\n      <td>30</td>\n    </tr>\n    <tr>\n      <th>3</th>\n      <td>4.0</td>\n      <td>8.0</td>\n      <td>40</td>\n    </tr>\n  </tbody>\n</table>\n</div>"
     },
     "execution_count": 129,
     "metadata": {},
     "output_type": "execute_result"
    }
   ],
   "source": [
    "df_missing\n"
   ],
   "metadata": {
    "collapsed": false,
    "pycharm": {
     "name": "#%%\n"
    }
   }
  },
  {
   "cell_type": "markdown",
   "source": [
    "Strategy 2: Remove missing data\n"
   ],
   "metadata": {
    "collapsed": false,
    "pycharm": {
     "name": "#%% md\n"
    }
   }
  },
  {
   "cell_type": "code",
   "execution_count": 130,
   "outputs": [
    {
     "data": {
      "text/plain": "     A   C\n0  1.0  10\n1  2.0  20\n2  NaN  30\n3  4.0  40",
      "text/html": "<div>\n<style scoped>\n    .dataframe tbody tr th:only-of-type {\n        vertical-align: middle;\n    }\n\n    .dataframe tbody tr th {\n        vertical-align: top;\n    }\n\n    .dataframe thead th {\n        text-align: right;\n    }\n</style>\n<table border=\"1\" class=\"dataframe\">\n  <thead>\n    <tr style=\"text-align: right;\">\n      <th></th>\n      <th>A</th>\n      <th>C</th>\n    </tr>\n  </thead>\n  <tbody>\n    <tr>\n      <th>0</th>\n      <td>1.0</td>\n      <td>10</td>\n    </tr>\n    <tr>\n      <th>1</th>\n      <td>2.0</td>\n      <td>20</td>\n    </tr>\n    <tr>\n      <th>2</th>\n      <td>NaN</td>\n      <td>30</td>\n    </tr>\n    <tr>\n      <th>3</th>\n      <td>4.0</td>\n      <td>40</td>\n    </tr>\n  </tbody>\n</table>\n</div>"
     },
     "execution_count": 130,
     "metadata": {},
     "output_type": "execute_result"
    }
   ],
   "source": [
    "# calculate threshold if needed\n",
    "# thresh = 0.5 * len(df_missing)\n",
    "df_missing.dropna(axis=1,thresh=3)"
   ],
   "metadata": {
    "collapsed": false,
    "pycharm": {
     "name": "#%%\n"
    }
   }
  },
  {
   "cell_type": "markdown",
   "source": [
    "Strategy 3: Fill in data"
   ],
   "metadata": {
    "collapsed": false,
    "pycharm": {
     "name": "#%% md\n"
    }
   }
  },
  {
   "cell_type": "code",
   "execution_count": 131,
   "outputs": [
    {
     "data": {
      "text/plain": "          A         B   C\n0         1         5  10\n1         2  ANYTHING  20\n2  ANYTHING  ANYTHING  30\n3         4         8  40",
      "text/html": "<div>\n<style scoped>\n    .dataframe tbody tr th:only-of-type {\n        vertical-align: middle;\n    }\n\n    .dataframe tbody tr th {\n        vertical-align: top;\n    }\n\n    .dataframe thead th {\n        text-align: right;\n    }\n</style>\n<table border=\"1\" class=\"dataframe\">\n  <thead>\n    <tr style=\"text-align: right;\">\n      <th></th>\n      <th>A</th>\n      <th>B</th>\n      <th>C</th>\n    </tr>\n  </thead>\n  <tbody>\n    <tr>\n      <th>0</th>\n      <td>1</td>\n      <td>5</td>\n      <td>10</td>\n    </tr>\n    <tr>\n      <th>1</th>\n      <td>2</td>\n      <td>ANYTHING</td>\n      <td>20</td>\n    </tr>\n    <tr>\n      <th>2</th>\n      <td>ANYTHING</td>\n      <td>ANYTHING</td>\n      <td>30</td>\n    </tr>\n    <tr>\n      <th>3</th>\n      <td>4</td>\n      <td>8</td>\n      <td>40</td>\n    </tr>\n  </tbody>\n</table>\n</div>"
     },
     "execution_count": 131,
     "metadata": {},
     "output_type": "execute_result"
    }
   ],
   "source": [
    "df_missing.fillna(value='ANYTHING')"
   ],
   "metadata": {
    "collapsed": false,
    "pycharm": {
     "name": "#%%\n"
    }
   }
  },
  {
   "cell_type": "code",
   "execution_count": 132,
   "outputs": [],
   "source": [
    "df_missing['A'] = df_missing['A'].fillna(value=0)\n"
   ],
   "metadata": {
    "collapsed": false,
    "pycharm": {
     "name": "#%%\n"
    }
   }
  },
  {
   "cell_type": "code",
   "execution_count": 133,
   "outputs": [
    {
     "data": {
      "text/plain": "     A    B   C\n0  1.0  5.0  10\n1  2.0  NaN  20\n2  0.0  NaN  30\n3  4.0  8.0  40",
      "text/html": "<div>\n<style scoped>\n    .dataframe tbody tr th:only-of-type {\n        vertical-align: middle;\n    }\n\n    .dataframe tbody tr th {\n        vertical-align: top;\n    }\n\n    .dataframe thead th {\n        text-align: right;\n    }\n</style>\n<table border=\"1\" class=\"dataframe\">\n  <thead>\n    <tr style=\"text-align: right;\">\n      <th></th>\n      <th>A</th>\n      <th>B</th>\n      <th>C</th>\n    </tr>\n  </thead>\n  <tbody>\n    <tr>\n      <th>0</th>\n      <td>1.0</td>\n      <td>5.0</td>\n      <td>10</td>\n    </tr>\n    <tr>\n      <th>1</th>\n      <td>2.0</td>\n      <td>NaN</td>\n      <td>20</td>\n    </tr>\n    <tr>\n      <th>2</th>\n      <td>0.0</td>\n      <td>NaN</td>\n      <td>30</td>\n    </tr>\n    <tr>\n      <th>3</th>\n      <td>4.0</td>\n      <td>8.0</td>\n      <td>40</td>\n    </tr>\n  </tbody>\n</table>\n</div>"
     },
     "execution_count": 133,
     "metadata": {},
     "output_type": "execute_result"
    }
   ],
   "source": [
    "df_missing"
   ],
   "metadata": {
    "collapsed": false,
    "pycharm": {
     "name": "#%%\n"
    }
   }
  },
  {
   "cell_type": "markdown",
   "source": [
    "Lets fill up the missing values in feature B with the mean of the filled cells.\n",
    "\n",
    "This is a common strategy."
   ],
   "metadata": {
    "collapsed": false,
    "pycharm": {
     "name": "#%% md\n"
    }
   }
  },
  {
   "cell_type": "code",
   "execution_count": 134,
   "outputs": [
    {
     "data": {
      "text/plain": "0    5.0\n1    6.5\n2    6.5\n3    8.0\nName: B, dtype: float64"
     },
     "execution_count": 134,
     "metadata": {},
     "output_type": "execute_result"
    }
   ],
   "source": [
    "df_missing['B'].fillna(value=df_missing['B'].mean())"
   ],
   "metadata": {
    "collapsed": false,
    "pycharm": {
     "name": "#%%\n"
    }
   }
  },
  {
   "cell_type": "code",
   "execution_count": 135,
   "outputs": [
    {
     "data": {
      "text/plain": "     A    B   C\n0  1.0  5.0  10\n1  2.0  6.5  20\n2  0.0  6.5  30\n3  4.0  8.0  40",
      "text/html": "<div>\n<style scoped>\n    .dataframe tbody tr th:only-of-type {\n        vertical-align: middle;\n    }\n\n    .dataframe tbody tr th {\n        vertical-align: top;\n    }\n\n    .dataframe thead th {\n        text-align: right;\n    }\n</style>\n<table border=\"1\" class=\"dataframe\">\n  <thead>\n    <tr style=\"text-align: right;\">\n      <th></th>\n      <th>A</th>\n      <th>B</th>\n      <th>C</th>\n    </tr>\n  </thead>\n  <tbody>\n    <tr>\n      <th>0</th>\n      <td>1.0</td>\n      <td>5.0</td>\n      <td>10</td>\n    </tr>\n    <tr>\n      <th>1</th>\n      <td>2.0</td>\n      <td>6.5</td>\n      <td>20</td>\n    </tr>\n    <tr>\n      <th>2</th>\n      <td>0.0</td>\n      <td>6.5</td>\n      <td>30</td>\n    </tr>\n    <tr>\n      <th>3</th>\n      <td>4.0</td>\n      <td>8.0</td>\n      <td>40</td>\n    </tr>\n  </tbody>\n</table>\n</div>"
     },
     "execution_count": 135,
     "metadata": {},
     "output_type": "execute_result"
    }
   ],
   "source": [
    "df_missing.fillna(df_missing.mean())"
   ],
   "metadata": {
    "collapsed": false,
    "pycharm": {
     "name": "#%%\n"
    }
   }
  },
  {
   "cell_type": "markdown",
   "source": [
    "# Group By operations\n",
    "AKA Split - Apply - Combine\n"
   ],
   "metadata": {
    "collapsed": false,
    "pycharm": {
     "name": "#%% md\n"
    }
   }
  },
  {
   "cell_type": "code",
   "execution_count": 139,
   "outputs": [],
   "source": [
    "univ_df = pd.read_csv('/home/abhinav/Desktop/Python/tensorflow2-keras-deep-learning-course/pandas-overview/Universities.csv')"
   ],
   "metadata": {
    "collapsed": false,
    "pycharm": {
     "name": "#%%\n"
    }
   }
  },
  {
   "cell_type": "code",
   "execution_count": 140,
   "outputs": [
    {
     "data": {
      "text/plain": "                                 Sector  \\\n0            Private for-profit, 2-year   \n1  Private for-profit, less-than 2-year   \n2  Private for-profit, less-than 2-year   \n3  Private for-profit, less-than 2-year   \n4               Public, 4-year or above   \n\n                              University  Year  Completions Geography  \n0       Pima Medical Institute-Las Vegas  2016          591    Nevada  \n1       Healthcare Preparatory Institute  2016           28    Nevada  \n2              Milan Institute-Las Vegas  2016          408    Nevada  \n3  Utah College of Massage Therapy-Vegas  2016          240    Nevada  \n4                 Western Nevada College  2016          960    Nevada  ",
      "text/html": "<div>\n<style scoped>\n    .dataframe tbody tr th:only-of-type {\n        vertical-align: middle;\n    }\n\n    .dataframe tbody tr th {\n        vertical-align: top;\n    }\n\n    .dataframe thead th {\n        text-align: right;\n    }\n</style>\n<table border=\"1\" class=\"dataframe\">\n  <thead>\n    <tr style=\"text-align: right;\">\n      <th></th>\n      <th>Sector</th>\n      <th>University</th>\n      <th>Year</th>\n      <th>Completions</th>\n      <th>Geography</th>\n    </tr>\n  </thead>\n  <tbody>\n    <tr>\n      <th>0</th>\n      <td>Private for-profit, 2-year</td>\n      <td>Pima Medical Institute-Las Vegas</td>\n      <td>2016</td>\n      <td>591</td>\n      <td>Nevada</td>\n    </tr>\n    <tr>\n      <th>1</th>\n      <td>Private for-profit, less-than 2-year</td>\n      <td>Healthcare Preparatory Institute</td>\n      <td>2016</td>\n      <td>28</td>\n      <td>Nevada</td>\n    </tr>\n    <tr>\n      <th>2</th>\n      <td>Private for-profit, less-than 2-year</td>\n      <td>Milan Institute-Las Vegas</td>\n      <td>2016</td>\n      <td>408</td>\n      <td>Nevada</td>\n    </tr>\n    <tr>\n      <th>3</th>\n      <td>Private for-profit, less-than 2-year</td>\n      <td>Utah College of Massage Therapy-Vegas</td>\n      <td>2016</td>\n      <td>240</td>\n      <td>Nevada</td>\n    </tr>\n    <tr>\n      <th>4</th>\n      <td>Public, 4-year or above</td>\n      <td>Western Nevada College</td>\n      <td>2016</td>\n      <td>960</td>\n      <td>Nevada</td>\n    </tr>\n  </tbody>\n</table>\n</div>"
     },
     "execution_count": 140,
     "metadata": {},
     "output_type": "execute_result"
    }
   ],
   "source": [
    "univ_df.head()"
   ],
   "metadata": {
    "collapsed": false,
    "pycharm": {
     "name": "#%%\n"
    }
   }
  },
  {
   "cell_type": "code",
   "execution_count": 142,
   "outputs": [
    {
     "data": {
      "text/plain": "      Completions\nYear             \n2016        26224\n2015        26279\n2014        24730\n2013        21046\n2012        20333",
      "text/html": "<div>\n<style scoped>\n    .dataframe tbody tr th:only-of-type {\n        vertical-align: middle;\n    }\n\n    .dataframe tbody tr th {\n        vertical-align: top;\n    }\n\n    .dataframe thead th {\n        text-align: right;\n    }\n</style>\n<table border=\"1\" class=\"dataframe\">\n  <thead>\n    <tr style=\"text-align: right;\">\n      <th></th>\n      <th>Completions</th>\n    </tr>\n    <tr>\n      <th>Year</th>\n      <th></th>\n    </tr>\n  </thead>\n  <tbody>\n    <tr>\n      <th>2016</th>\n      <td>26224</td>\n    </tr>\n    <tr>\n      <th>2015</th>\n      <td>26279</td>\n    </tr>\n    <tr>\n      <th>2014</th>\n      <td>24730</td>\n    </tr>\n    <tr>\n      <th>2013</th>\n      <td>21046</td>\n    </tr>\n    <tr>\n      <th>2012</th>\n      <td>20333</td>\n    </tr>\n  </tbody>\n</table>\n</div>"
     },
     "execution_count": 142,
     "metadata": {},
     "output_type": "execute_result"
    }
   ],
   "source": [
    "univ_df.groupby('Year').sum().sort_index(ascending=False)"
   ],
   "metadata": {
    "collapsed": false,
    "pycharm": {
     "name": "#%%\n"
    }
   }
  },
  {
   "cell_type": "code",
   "execution_count": 143,
   "outputs": [
    {
     "data": {
      "text/plain": "                                              Completions\nYear Sector                                              \n2012 Private for-profit, 2-year                      3072\n     Private for-profit, 4-year or above              632\n     Private for-profit, less-than 2-year            1327\n     Private not-for-profit, 2-year                   665\n     Private not-for-profit, 4-year or above         1059\n     Public, 2-year                                  1170\n     Public, 4-year or above                        12408\n2013 Private for-profit, 2-year                      3053\n     Private for-profit, 4-year or above              775\n     Private for-profit, less-than 2-year            1281\n     Private not-for-profit, 2-year                   471\n     Private not-for-profit, 4-year or above         1016\n     Public, 2-year                                  1633\n     Public, 4-year or above                        12817\n2014 Private for-profit, 2-year                      2957\n     Private for-profit, 4-year or above             1506\n     Private for-profit, less-than 2-year            1328\n     Private not-for-profit, 2-year                   449\n     Private not-for-profit, 4-year or above         1042\n     Public, 2-year                                  2286\n     Public, 4-year or above                        15162\n2015 Private for-profit, 2-year                      3280\n     Private for-profit, 4-year or above             1306\n     Private for-profit, less-than 2-year            1629\n     Private not-for-profit, 2-year                   425\n     Private not-for-profit, 4-year or above         1228\n     Public, 2-year                                  2355\n     Public, 4-year or above                        16056\n2016 Private for-profit, 2-year                      3286\n     Private for-profit, 4-year or above              748\n     Private for-profit, less-than 2-year            1552\n     Private not-for-profit, 2-year                   322\n     Private not-for-profit, 4-year or above         1208\n     Public, 2-year                                  2431\n     Public, 4-year or above                        16677",
      "text/html": "<div>\n<style scoped>\n    .dataframe tbody tr th:only-of-type {\n        vertical-align: middle;\n    }\n\n    .dataframe tbody tr th {\n        vertical-align: top;\n    }\n\n    .dataframe thead th {\n        text-align: right;\n    }\n</style>\n<table border=\"1\" class=\"dataframe\">\n  <thead>\n    <tr style=\"text-align: right;\">\n      <th></th>\n      <th></th>\n      <th>Completions</th>\n    </tr>\n    <tr>\n      <th>Year</th>\n      <th>Sector</th>\n      <th></th>\n    </tr>\n  </thead>\n  <tbody>\n    <tr>\n      <th rowspan=\"7\" valign=\"top\">2012</th>\n      <th>Private for-profit, 2-year</th>\n      <td>3072</td>\n    </tr>\n    <tr>\n      <th>Private for-profit, 4-year or above</th>\n      <td>632</td>\n    </tr>\n    <tr>\n      <th>Private for-profit, less-than 2-year</th>\n      <td>1327</td>\n    </tr>\n    <tr>\n      <th>Private not-for-profit, 2-year</th>\n      <td>665</td>\n    </tr>\n    <tr>\n      <th>Private not-for-profit, 4-year or above</th>\n      <td>1059</td>\n    </tr>\n    <tr>\n      <th>Public, 2-year</th>\n      <td>1170</td>\n    </tr>\n    <tr>\n      <th>Public, 4-year or above</th>\n      <td>12408</td>\n    </tr>\n    <tr>\n      <th rowspan=\"7\" valign=\"top\">2013</th>\n      <th>Private for-profit, 2-year</th>\n      <td>3053</td>\n    </tr>\n    <tr>\n      <th>Private for-profit, 4-year or above</th>\n      <td>775</td>\n    </tr>\n    <tr>\n      <th>Private for-profit, less-than 2-year</th>\n      <td>1281</td>\n    </tr>\n    <tr>\n      <th>Private not-for-profit, 2-year</th>\n      <td>471</td>\n    </tr>\n    <tr>\n      <th>Private not-for-profit, 4-year or above</th>\n      <td>1016</td>\n    </tr>\n    <tr>\n      <th>Public, 2-year</th>\n      <td>1633</td>\n    </tr>\n    <tr>\n      <th>Public, 4-year or above</th>\n      <td>12817</td>\n    </tr>\n    <tr>\n      <th rowspan=\"7\" valign=\"top\">2014</th>\n      <th>Private for-profit, 2-year</th>\n      <td>2957</td>\n    </tr>\n    <tr>\n      <th>Private for-profit, 4-year or above</th>\n      <td>1506</td>\n    </tr>\n    <tr>\n      <th>Private for-profit, less-than 2-year</th>\n      <td>1328</td>\n    </tr>\n    <tr>\n      <th>Private not-for-profit, 2-year</th>\n      <td>449</td>\n    </tr>\n    <tr>\n      <th>Private not-for-profit, 4-year or above</th>\n      <td>1042</td>\n    </tr>\n    <tr>\n      <th>Public, 2-year</th>\n      <td>2286</td>\n    </tr>\n    <tr>\n      <th>Public, 4-year or above</th>\n      <td>15162</td>\n    </tr>\n    <tr>\n      <th rowspan=\"7\" valign=\"top\">2015</th>\n      <th>Private for-profit, 2-year</th>\n      <td>3280</td>\n    </tr>\n    <tr>\n      <th>Private for-profit, 4-year or above</th>\n      <td>1306</td>\n    </tr>\n    <tr>\n      <th>Private for-profit, less-than 2-year</th>\n      <td>1629</td>\n    </tr>\n    <tr>\n      <th>Private not-for-profit, 2-year</th>\n      <td>425</td>\n    </tr>\n    <tr>\n      <th>Private not-for-profit, 4-year or above</th>\n      <td>1228</td>\n    </tr>\n    <tr>\n      <th>Public, 2-year</th>\n      <td>2355</td>\n    </tr>\n    <tr>\n      <th>Public, 4-year or above</th>\n      <td>16056</td>\n    </tr>\n    <tr>\n      <th rowspan=\"7\" valign=\"top\">2016</th>\n      <th>Private for-profit, 2-year</th>\n      <td>3286</td>\n    </tr>\n    <tr>\n      <th>Private for-profit, 4-year or above</th>\n      <td>748</td>\n    </tr>\n    <tr>\n      <th>Private for-profit, less-than 2-year</th>\n      <td>1552</td>\n    </tr>\n    <tr>\n      <th>Private not-for-profit, 2-year</th>\n      <td>322</td>\n    </tr>\n    <tr>\n      <th>Private not-for-profit, 4-year or above</th>\n      <td>1208</td>\n    </tr>\n    <tr>\n      <th>Public, 2-year</th>\n      <td>2431</td>\n    </tr>\n    <tr>\n      <th>Public, 4-year or above</th>\n      <td>16677</td>\n    </tr>\n  </tbody>\n</table>\n</div>"
     },
     "execution_count": 143,
     "metadata": {},
     "output_type": "execute_result"
    }
   ],
   "source": [
    "univ_df.groupby(['Year', 'Sector']).sum()"
   ],
   "metadata": {
    "collapsed": false,
    "pycharm": {
     "name": "#%%\n"
    }
   }
  },
  {
   "cell_type": "markdown",
   "source": [
    "Use `describe` after `groupby` to get useful summary statistics across categories from the data set"
   ],
   "metadata": {
    "collapsed": false,
    "pycharm": {
     "name": "#%% md\n"
    }
   }
  },
  {
   "cell_type": "code",
   "execution_count": 145,
   "outputs": [
    {
     "data": {
      "text/plain": "Year                      2012         2013         2014         2015  \\\nCompletions count    38.000000    40.000000    42.000000    44.000000   \n            mean    535.078947   526.150000   588.809524   597.250000   \n            std    1036.433239  1040.474782  1150.355857  1183.371791   \n            min      13.000000     0.000000     0.000000     0.000000   \n            25%     114.250000    98.500000   104.500000    87.750000   \n            50%     229.500000   189.000000   203.500000   191.000000   \n            75%     420.500000   413.000000   371.750000   405.750000   \n            max    5388.000000  5278.000000  5093.000000  5335.000000   \n\nYear                      2016  \nCompletions count    43.000000  \n            mean    609.860465  \n            std    1235.952796  \n            min       0.000000  \n            25%      90.000000  \n            50%     208.000000  \n            75%     414.000000  \n            max    5367.000000  ",
      "text/html": "<div>\n<style scoped>\n    .dataframe tbody tr th:only-of-type {\n        vertical-align: middle;\n    }\n\n    .dataframe tbody tr th {\n        vertical-align: top;\n    }\n\n    .dataframe thead th {\n        text-align: right;\n    }\n</style>\n<table border=\"1\" class=\"dataframe\">\n  <thead>\n    <tr style=\"text-align: right;\">\n      <th></th>\n      <th>Year</th>\n      <th>2012</th>\n      <th>2013</th>\n      <th>2014</th>\n      <th>2015</th>\n      <th>2016</th>\n    </tr>\n  </thead>\n  <tbody>\n    <tr>\n      <th rowspan=\"8\" valign=\"top\">Completions</th>\n      <th>count</th>\n      <td>38.000000</td>\n      <td>40.000000</td>\n      <td>42.000000</td>\n      <td>44.000000</td>\n      <td>43.000000</td>\n    </tr>\n    <tr>\n      <th>mean</th>\n      <td>535.078947</td>\n      <td>526.150000</td>\n      <td>588.809524</td>\n      <td>597.250000</td>\n      <td>609.860465</td>\n    </tr>\n    <tr>\n      <th>std</th>\n      <td>1036.433239</td>\n      <td>1040.474782</td>\n      <td>1150.355857</td>\n      <td>1183.371791</td>\n      <td>1235.952796</td>\n    </tr>\n    <tr>\n      <th>min</th>\n      <td>13.000000</td>\n      <td>0.000000</td>\n      <td>0.000000</td>\n      <td>0.000000</td>\n      <td>0.000000</td>\n    </tr>\n    <tr>\n      <th>25%</th>\n      <td>114.250000</td>\n      <td>98.500000</td>\n      <td>104.500000</td>\n      <td>87.750000</td>\n      <td>90.000000</td>\n    </tr>\n    <tr>\n      <th>50%</th>\n      <td>229.500000</td>\n      <td>189.000000</td>\n      <td>203.500000</td>\n      <td>191.000000</td>\n      <td>208.000000</td>\n    </tr>\n    <tr>\n      <th>75%</th>\n      <td>420.500000</td>\n      <td>413.000000</td>\n      <td>371.750000</td>\n      <td>405.750000</td>\n      <td>414.000000</td>\n    </tr>\n    <tr>\n      <th>max</th>\n      <td>5388.000000</td>\n      <td>5278.000000</td>\n      <td>5093.000000</td>\n      <td>5335.000000</td>\n      <td>5367.000000</td>\n    </tr>\n  </tbody>\n</table>\n</div>"
     },
     "execution_count": 145,
     "metadata": {},
     "output_type": "execute_result"
    }
   ],
   "source": [
    "univ_df.groupby('Year').describe().transpose()"
   ],
   "metadata": {
    "collapsed": false,
    "pycharm": {
     "name": "#%%\n"
    }
   }
  },
  {
   "cell_type": "markdown",
   "source": [
    "# Pandas ops\n"
   ],
   "metadata": {
    "collapsed": false,
    "pycharm": {
     "name": "#%% md\n"
    }
   }
  },
  {
   "cell_type": "code",
   "execution_count": 146,
   "outputs": [],
   "source": [
    "df_one = pd.DataFrame({'k1':['A','A','B','B','C','C'],\n",
    "                   'col1':[100,200,300,300,400,500],\n",
    "                   'col2':['NY','CA','WA','WA','AK','NV']})"
   ],
   "metadata": {
    "collapsed": false,
    "pycharm": {
     "name": "#%%\n"
    }
   }
  },
  {
   "cell_type": "code",
   "execution_count": 147,
   "outputs": [
    {
     "data": {
      "text/plain": "  k1  col1 col2\n0  A   100   NY\n1  A   200   CA\n2  B   300   WA\n3  B   300   WA\n4  C   400   AK\n5  C   500   NV",
      "text/html": "<div>\n<style scoped>\n    .dataframe tbody tr th:only-of-type {\n        vertical-align: middle;\n    }\n\n    .dataframe tbody tr th {\n        vertical-align: top;\n    }\n\n    .dataframe thead th {\n        text-align: right;\n    }\n</style>\n<table border=\"1\" class=\"dataframe\">\n  <thead>\n    <tr style=\"text-align: right;\">\n      <th></th>\n      <th>k1</th>\n      <th>col1</th>\n      <th>col2</th>\n    </tr>\n  </thead>\n  <tbody>\n    <tr>\n      <th>0</th>\n      <td>A</td>\n      <td>100</td>\n      <td>NY</td>\n    </tr>\n    <tr>\n      <th>1</th>\n      <td>A</td>\n      <td>200</td>\n      <td>CA</td>\n    </tr>\n    <tr>\n      <th>2</th>\n      <td>B</td>\n      <td>300</td>\n      <td>WA</td>\n    </tr>\n    <tr>\n      <th>3</th>\n      <td>B</td>\n      <td>300</td>\n      <td>WA</td>\n    </tr>\n    <tr>\n      <th>4</th>\n      <td>C</td>\n      <td>400</td>\n      <td>AK</td>\n    </tr>\n    <tr>\n      <th>5</th>\n      <td>C</td>\n      <td>500</td>\n      <td>NV</td>\n    </tr>\n  </tbody>\n</table>\n</div>"
     },
     "execution_count": 147,
     "metadata": {},
     "output_type": "execute_result"
    }
   ],
   "source": [
    "df_one"
   ],
   "metadata": {
    "collapsed": false,
    "pycharm": {
     "name": "#%%\n"
    }
   }
  },
  {
   "cell_type": "markdown",
   "source": [
    "Get unique values\n"
   ],
   "metadata": {
    "collapsed": false,
    "pycharm": {
     "name": "#%% md\n"
    }
   }
  },
  {
   "cell_type": "code",
   "execution_count": 150,
   "outputs": [
    {
     "data": {
      "text/plain": "WA    2\nCA    1\nAK    1\nNY    1\nNV    1\nName: col2, dtype: int64"
     },
     "execution_count": 150,
     "metadata": {},
     "output_type": "execute_result"
    }
   ],
   "source": [
    "df_one['col2'].value_counts()"
   ],
   "metadata": {
    "collapsed": false,
    "pycharm": {
     "name": "#%%\n"
    }
   }
  },
  {
   "cell_type": "code",
   "execution_count": 151,
   "outputs": [
    {
     "data": {
      "text/plain": "  k1  col1 col2\n0  A   100   NY\n1  A   200   CA\n2  B   300   WA\n4  C   400   AK\n5  C   500   NV",
      "text/html": "<div>\n<style scoped>\n    .dataframe tbody tr th:only-of-type {\n        vertical-align: middle;\n    }\n\n    .dataframe tbody tr th {\n        vertical-align: top;\n    }\n\n    .dataframe thead th {\n        text-align: right;\n    }\n</style>\n<table border=\"1\" class=\"dataframe\">\n  <thead>\n    <tr style=\"text-align: right;\">\n      <th></th>\n      <th>k1</th>\n      <th>col1</th>\n      <th>col2</th>\n    </tr>\n  </thead>\n  <tbody>\n    <tr>\n      <th>0</th>\n      <td>A</td>\n      <td>100</td>\n      <td>NY</td>\n    </tr>\n    <tr>\n      <th>1</th>\n      <td>A</td>\n      <td>200</td>\n      <td>CA</td>\n    </tr>\n    <tr>\n      <th>2</th>\n      <td>B</td>\n      <td>300</td>\n      <td>WA</td>\n    </tr>\n    <tr>\n      <th>4</th>\n      <td>C</td>\n      <td>400</td>\n      <td>AK</td>\n    </tr>\n    <tr>\n      <th>5</th>\n      <td>C</td>\n      <td>500</td>\n      <td>NV</td>\n    </tr>\n  </tbody>\n</table>\n</div>"
     },
     "execution_count": 151,
     "metadata": {},
     "output_type": "execute_result"
    }
   ],
   "source": [
    "df_one.drop_duplicates()"
   ],
   "metadata": {
    "collapsed": false,
    "pycharm": {
     "name": "#%%\n"
    }
   }
  },
  {
   "cell_type": "code",
   "execution_count": 152,
   "outputs": [],
   "source": [
    "df_one['NEW'] = df_one['col1'] * 10"
   ],
   "metadata": {
    "collapsed": false,
    "pycharm": {
     "name": "#%%\n"
    }
   }
  },
  {
   "cell_type": "code",
   "execution_count": 153,
   "outputs": [
    {
     "data": {
      "text/plain": "  k1  col1 col2   NEW\n0  A   100   NY  1000\n1  A   200   CA  2000\n2  B   300   WA  3000\n3  B   300   WA  3000\n4  C   400   AK  4000\n5  C   500   NV  5000",
      "text/html": "<div>\n<style scoped>\n    .dataframe tbody tr th:only-of-type {\n        vertical-align: middle;\n    }\n\n    .dataframe tbody tr th {\n        vertical-align: top;\n    }\n\n    .dataframe thead th {\n        text-align: right;\n    }\n</style>\n<table border=\"1\" class=\"dataframe\">\n  <thead>\n    <tr style=\"text-align: right;\">\n      <th></th>\n      <th>k1</th>\n      <th>col1</th>\n      <th>col2</th>\n      <th>NEW</th>\n    </tr>\n  </thead>\n  <tbody>\n    <tr>\n      <th>0</th>\n      <td>A</td>\n      <td>100</td>\n      <td>NY</td>\n      <td>1000</td>\n    </tr>\n    <tr>\n      <th>1</th>\n      <td>A</td>\n      <td>200</td>\n      <td>CA</td>\n      <td>2000</td>\n    </tr>\n    <tr>\n      <th>2</th>\n      <td>B</td>\n      <td>300</td>\n      <td>WA</td>\n      <td>3000</td>\n    </tr>\n    <tr>\n      <th>3</th>\n      <td>B</td>\n      <td>300</td>\n      <td>WA</td>\n      <td>3000</td>\n    </tr>\n    <tr>\n      <th>4</th>\n      <td>C</td>\n      <td>400</td>\n      <td>AK</td>\n      <td>4000</td>\n    </tr>\n    <tr>\n      <th>5</th>\n      <td>C</td>\n      <td>500</td>\n      <td>NV</td>\n      <td>5000</td>\n    </tr>\n  </tbody>\n</table>\n</div>"
     },
     "execution_count": 153,
     "metadata": {},
     "output_type": "execute_result"
    }
   ],
   "source": [
    "df_one"
   ],
   "metadata": {
    "collapsed": false,
    "pycharm": {
     "name": "#%%\n"
    }
   }
  },
  {
   "cell_type": "markdown",
   "source": [
    "## Applying functions to a dataframe to transform data\n",
    "- Watch out for datatype errors!\n",
    "- Includes `map`, `max` etc..."
   ],
   "metadata": {
    "collapsed": false,
    "pycharm": {
     "name": "#%% md\n"
    }
   }
  },
  {
   "cell_type": "code",
   "execution_count": 154,
   "outputs": [],
   "source": [
    "def grab_first_letter(state):\n",
    "    \"\"\"\n",
    "    Requires state to be a string!\n",
    "    :param state:\n",
    "    :return:\n",
    "    \"\"\"\n",
    "    return state[0]"
   ],
   "metadata": {
    "collapsed": false,
    "pycharm": {
     "name": "#%%\n"
    }
   }
  },
  {
   "cell_type": "code",
   "execution_count": 155,
   "outputs": [
    {
     "data": {
      "text/plain": "'N'"
     },
     "execution_count": 155,
     "metadata": {},
     "output_type": "execute_result"
    }
   ],
   "source": [
    "grab_first_letter('NY')"
   ],
   "metadata": {
    "collapsed": false,
    "pycharm": {
     "name": "#%%\n"
    }
   }
  },
  {
   "cell_type": "code",
   "execution_count": 156,
   "outputs": [],
   "source": [
    "df_one['first letter'] = df_one['col2'].apply(grab_first_letter)"
   ],
   "metadata": {
    "collapsed": false,
    "pycharm": {
     "name": "#%%\n"
    }
   }
  },
  {
   "cell_type": "code",
   "execution_count": 157,
   "outputs": [
    {
     "data": {
      "text/plain": "  k1  col1 col2   NEW first letter\n0  A   100   NY  1000            N\n1  A   200   CA  2000            C\n2  B   300   WA  3000            W\n3  B   300   WA  3000            W\n4  C   400   AK  4000            A\n5  C   500   NV  5000            N",
      "text/html": "<div>\n<style scoped>\n    .dataframe tbody tr th:only-of-type {\n        vertical-align: middle;\n    }\n\n    .dataframe tbody tr th {\n        vertical-align: top;\n    }\n\n    .dataframe thead th {\n        text-align: right;\n    }\n</style>\n<table border=\"1\" class=\"dataframe\">\n  <thead>\n    <tr style=\"text-align: right;\">\n      <th></th>\n      <th>k1</th>\n      <th>col1</th>\n      <th>col2</th>\n      <th>NEW</th>\n      <th>first letter</th>\n    </tr>\n  </thead>\n  <tbody>\n    <tr>\n      <th>0</th>\n      <td>A</td>\n      <td>100</td>\n      <td>NY</td>\n      <td>1000</td>\n      <td>N</td>\n    </tr>\n    <tr>\n      <th>1</th>\n      <td>A</td>\n      <td>200</td>\n      <td>CA</td>\n      <td>2000</td>\n      <td>C</td>\n    </tr>\n    <tr>\n      <th>2</th>\n      <td>B</td>\n      <td>300</td>\n      <td>WA</td>\n      <td>3000</td>\n      <td>W</td>\n    </tr>\n    <tr>\n      <th>3</th>\n      <td>B</td>\n      <td>300</td>\n      <td>WA</td>\n      <td>3000</td>\n      <td>W</td>\n    </tr>\n    <tr>\n      <th>4</th>\n      <td>C</td>\n      <td>400</td>\n      <td>AK</td>\n      <td>4000</td>\n      <td>A</td>\n    </tr>\n    <tr>\n      <th>5</th>\n      <td>C</td>\n      <td>500</td>\n      <td>NV</td>\n      <td>5000</td>\n      <td>N</td>\n    </tr>\n  </tbody>\n</table>\n</div>"
     },
     "execution_count": 157,
     "metadata": {},
     "output_type": "execute_result"
    }
   ],
   "source": [
    "df_one\n"
   ],
   "metadata": {
    "collapsed": false,
    "pycharm": {
     "name": "#%%\n"
    }
   }
  },
  {
   "cell_type": "code",
   "execution_count": 158,
   "outputs": [],
   "source": [
    "def complex_letter(state):\n",
    "    \"\"\"\n",
    "    :param state:  STRING type\n",
    "    :return:\n",
    "    \"\"\"\n",
    "    if state[0] == \"W\":\n",
    "        return \"Washington\"\n",
    "    else:\n",
    "        return \"Error\""
   ],
   "metadata": {
    "collapsed": false,
    "pycharm": {
     "name": "#%%\n"
    }
   }
  },
  {
   "cell_type": "code",
   "execution_count": 159,
   "outputs": [
    {
     "data": {
      "text/plain": "0         Error\n1         Error\n2    Washington\n3    Washington\n4         Error\n5         Error\nName: col2, dtype: object"
     },
     "execution_count": 159,
     "metadata": {},
     "output_type": "execute_result"
    }
   ],
   "source": [
    "df_one['col2'].apply(complex_letter)"
   ],
   "metadata": {
    "collapsed": false,
    "pycharm": {
     "name": "#%%\n"
    }
   }
  },
  {
   "cell_type": "code",
   "execution_count": 161,
   "outputs": [
    {
     "data": {
      "text/plain": "0    A\n1    A\n2    B\n3    B\n4    C\n5    C\nName: k1, dtype: object"
     },
     "execution_count": 161,
     "metadata": {},
     "output_type": "execute_result"
    }
   ],
   "source": [
    "df_one['k1']"
   ],
   "metadata": {
    "collapsed": false,
    "pycharm": {
     "name": "#%%\n"
    }
   }
  },
  {
   "cell_type": "code",
   "execution_count": 162,
   "outputs": [],
   "source": [
    "my_map = {'A':1,'B':2,'C':3}"
   ],
   "metadata": {
    "collapsed": false,
    "pycharm": {
     "name": "#%%\n"
    }
   }
  },
  {
   "cell_type": "code",
   "execution_count": 163,
   "outputs": [],
   "source": [
    "df_one['num'] = df_one['k1'].map(my_map)"
   ],
   "metadata": {
    "collapsed": false,
    "pycharm": {
     "name": "#%%\n"
    }
   }
  },
  {
   "cell_type": "code",
   "execution_count": 164,
   "outputs": [
    {
     "data": {
      "text/plain": "  k1  col1 col2   NEW first letter  num\n0  A   100   NY  1000            N    1\n1  A   200   CA  2000            C    1\n2  B   300   WA  3000            W    2\n3  B   300   WA  3000            W    2\n4  C   400   AK  4000            A    3\n5  C   500   NV  5000            N    3",
      "text/html": "<div>\n<style scoped>\n    .dataframe tbody tr th:only-of-type {\n        vertical-align: middle;\n    }\n\n    .dataframe tbody tr th {\n        vertical-align: top;\n    }\n\n    .dataframe thead th {\n        text-align: right;\n    }\n</style>\n<table border=\"1\" class=\"dataframe\">\n  <thead>\n    <tr style=\"text-align: right;\">\n      <th></th>\n      <th>k1</th>\n      <th>col1</th>\n      <th>col2</th>\n      <th>NEW</th>\n      <th>first letter</th>\n      <th>num</th>\n    </tr>\n  </thead>\n  <tbody>\n    <tr>\n      <th>0</th>\n      <td>A</td>\n      <td>100</td>\n      <td>NY</td>\n      <td>1000</td>\n      <td>N</td>\n      <td>1</td>\n    </tr>\n    <tr>\n      <th>1</th>\n      <td>A</td>\n      <td>200</td>\n      <td>CA</td>\n      <td>2000</td>\n      <td>C</td>\n      <td>1</td>\n    </tr>\n    <tr>\n      <th>2</th>\n      <td>B</td>\n      <td>300</td>\n      <td>WA</td>\n      <td>3000</td>\n      <td>W</td>\n      <td>2</td>\n    </tr>\n    <tr>\n      <th>3</th>\n      <td>B</td>\n      <td>300</td>\n      <td>WA</td>\n      <td>3000</td>\n      <td>W</td>\n      <td>2</td>\n    </tr>\n    <tr>\n      <th>4</th>\n      <td>C</td>\n      <td>400</td>\n      <td>AK</td>\n      <td>4000</td>\n      <td>A</td>\n      <td>3</td>\n    </tr>\n    <tr>\n      <th>5</th>\n      <td>C</td>\n      <td>500</td>\n      <td>NV</td>\n      <td>5000</td>\n      <td>N</td>\n      <td>3</td>\n    </tr>\n  </tbody>\n</table>\n</div>"
     },
     "execution_count": 164,
     "metadata": {},
     "output_type": "execute_result"
    }
   ],
   "source": [
    "df_one"
   ],
   "metadata": {
    "collapsed": false,
    "pycharm": {
     "name": "#%%\n"
    }
   }
  },
  {
   "cell_type": "code",
   "execution_count": 165,
   "outputs": [
    {
     "data": {
      "text/plain": "5"
     },
     "execution_count": 165,
     "metadata": {},
     "output_type": "execute_result"
    }
   ],
   "source": [
    "df_one['col1'].idxmax()"
   ],
   "metadata": {
    "collapsed": false,
    "pycharm": {
     "name": "#%%\n"
    }
   }
  },
  {
   "cell_type": "code",
   "execution_count": 166,
   "outputs": [
    {
     "data": {
      "text/plain": "Index(['k1', 'col1', 'col2', 'NEW', 'first letter', 'num'], dtype='object')"
     },
     "execution_count": 166,
     "metadata": {},
     "output_type": "execute_result"
    }
   ],
   "source": [
    "df_one.columns\n",
    "\n"
   ],
   "metadata": {
    "collapsed": false,
    "pycharm": {
     "name": "#%%\n"
    }
   }
  },
  {
   "cell_type": "code",
   "execution_count": 167,
   "outputs": [],
   "source": [
    "df_one.columns = ['c1','c2','c3','c4','c5','c6']"
   ],
   "metadata": {
    "collapsed": false,
    "pycharm": {
     "name": "#%%\n"
    }
   }
  },
  {
   "cell_type": "code",
   "execution_count": 170,
   "outputs": [
    {
     "data": {
      "text/plain": "  c1   c2  c3    c4 c5  c6\n4  C  400  AK  4000  A   3\n1  A  200  CA  2000  C   1\n5  C  500  NV  5000  N   3\n0  A  100  NY  1000  N   1\n2  B  300  WA  3000  W   2\n3  B  300  WA  3000  W   2",
      "text/html": "<div>\n<style scoped>\n    .dataframe tbody tr th:only-of-type {\n        vertical-align: middle;\n    }\n\n    .dataframe tbody tr th {\n        vertical-align: top;\n    }\n\n    .dataframe thead th {\n        text-align: right;\n    }\n</style>\n<table border=\"1\" class=\"dataframe\">\n  <thead>\n    <tr style=\"text-align: right;\">\n      <th></th>\n      <th>c1</th>\n      <th>c2</th>\n      <th>c3</th>\n      <th>c4</th>\n      <th>c5</th>\n      <th>c6</th>\n    </tr>\n  </thead>\n  <tbody>\n    <tr>\n      <th>4</th>\n      <td>C</td>\n      <td>400</td>\n      <td>AK</td>\n      <td>4000</td>\n      <td>A</td>\n      <td>3</td>\n    </tr>\n    <tr>\n      <th>1</th>\n      <td>A</td>\n      <td>200</td>\n      <td>CA</td>\n      <td>2000</td>\n      <td>C</td>\n      <td>1</td>\n    </tr>\n    <tr>\n      <th>5</th>\n      <td>C</td>\n      <td>500</td>\n      <td>NV</td>\n      <td>5000</td>\n      <td>N</td>\n      <td>3</td>\n    </tr>\n    <tr>\n      <th>0</th>\n      <td>A</td>\n      <td>100</td>\n      <td>NY</td>\n      <td>1000</td>\n      <td>N</td>\n      <td>1</td>\n    </tr>\n    <tr>\n      <th>2</th>\n      <td>B</td>\n      <td>300</td>\n      <td>WA</td>\n      <td>3000</td>\n      <td>W</td>\n      <td>2</td>\n    </tr>\n    <tr>\n      <th>3</th>\n      <td>B</td>\n      <td>300</td>\n      <td>WA</td>\n      <td>3000</td>\n      <td>W</td>\n      <td>2</td>\n    </tr>\n  </tbody>\n</table>\n</div>"
     },
     "execution_count": 170,
     "metadata": {},
     "output_type": "execute_result"
    }
   ],
   "source": [
    "df_one.sort_values('c3')"
   ],
   "metadata": {
    "collapsed": false,
    "pycharm": {
     "name": "#%%\n"
    }
   }
  },
  {
   "cell_type": "markdown",
   "source": [
    "## Concatenating dataframes\n"
   ],
   "metadata": {
    "collapsed": false,
    "pycharm": {
     "name": "#%% md\n"
    }
   }
  },
  {
   "cell_type": "code",
   "execution_count": 171,
   "outputs": [],
   "source": [
    "features = pd.DataFrame({'A':[100,200,300,400,500], 'B':[12,13,14,15,16]})\n",
    "predictions = pd.DataFrame({'pred':[0,1,1,0,1]})"
   ],
   "metadata": {
    "collapsed": false,
    "pycharm": {
     "name": "#%%\n"
    }
   }
  },
  {
   "cell_type": "code",
   "execution_count": 172,
   "outputs": [
    {
     "data": {
      "text/plain": "     A   B\n0  100  12\n1  200  13\n2  300  14\n3  400  15\n4  500  16",
      "text/html": "<div>\n<style scoped>\n    .dataframe tbody tr th:only-of-type {\n        vertical-align: middle;\n    }\n\n    .dataframe tbody tr th {\n        vertical-align: top;\n    }\n\n    .dataframe thead th {\n        text-align: right;\n    }\n</style>\n<table border=\"1\" class=\"dataframe\">\n  <thead>\n    <tr style=\"text-align: right;\">\n      <th></th>\n      <th>A</th>\n      <th>B</th>\n    </tr>\n  </thead>\n  <tbody>\n    <tr>\n      <th>0</th>\n      <td>100</td>\n      <td>12</td>\n    </tr>\n    <tr>\n      <th>1</th>\n      <td>200</td>\n      <td>13</td>\n    </tr>\n    <tr>\n      <th>2</th>\n      <td>300</td>\n      <td>14</td>\n    </tr>\n    <tr>\n      <th>3</th>\n      <td>400</td>\n      <td>15</td>\n    </tr>\n    <tr>\n      <th>4</th>\n      <td>500</td>\n      <td>16</td>\n    </tr>\n  </tbody>\n</table>\n</div>"
     },
     "execution_count": 172,
     "metadata": {},
     "output_type": "execute_result"
    }
   ],
   "source": [
    "features"
   ],
   "metadata": {
    "collapsed": false,
    "pycharm": {
     "name": "#%%\n"
    }
   }
  },
  {
   "cell_type": "code",
   "execution_count": 173,
   "outputs": [
    {
     "data": {
      "text/plain": "   pred\n0     0\n1     1\n2     1\n3     0\n4     1",
      "text/html": "<div>\n<style scoped>\n    .dataframe tbody tr th:only-of-type {\n        vertical-align: middle;\n    }\n\n    .dataframe tbody tr th {\n        vertical-align: top;\n    }\n\n    .dataframe thead th {\n        text-align: right;\n    }\n</style>\n<table border=\"1\" class=\"dataframe\">\n  <thead>\n    <tr style=\"text-align: right;\">\n      <th></th>\n      <th>pred</th>\n    </tr>\n  </thead>\n  <tbody>\n    <tr>\n      <th>0</th>\n      <td>0</td>\n    </tr>\n    <tr>\n      <th>1</th>\n      <td>1</td>\n    </tr>\n    <tr>\n      <th>2</th>\n      <td>1</td>\n    </tr>\n    <tr>\n      <th>3</th>\n      <td>0</td>\n    </tr>\n    <tr>\n      <th>4</th>\n      <td>1</td>\n    </tr>\n  </tbody>\n</table>\n</div>"
     },
     "execution_count": 173,
     "metadata": {},
     "output_type": "execute_result"
    }
   ],
   "source": [
    "predictions"
   ],
   "metadata": {
    "collapsed": false,
    "pycharm": {
     "name": "#%%\n"
    }
   }
  },
  {
   "cell_type": "code",
   "execution_count": 176,
   "outputs": [
    {
     "data": {
      "text/plain": "     A   B  pred\n0  100  12     0\n1  200  13     1\n2  300  14     1\n3  400  15     0\n4  500  16     1",
      "text/html": "<div>\n<style scoped>\n    .dataframe tbody tr th:only-of-type {\n        vertical-align: middle;\n    }\n\n    .dataframe tbody tr th {\n        vertical-align: top;\n    }\n\n    .dataframe thead th {\n        text-align: right;\n    }\n</style>\n<table border=\"1\" class=\"dataframe\">\n  <thead>\n    <tr style=\"text-align: right;\">\n      <th></th>\n      <th>A</th>\n      <th>B</th>\n      <th>pred</th>\n    </tr>\n  </thead>\n  <tbody>\n    <tr>\n      <th>0</th>\n      <td>100</td>\n      <td>12</td>\n      <td>0</td>\n    </tr>\n    <tr>\n      <th>1</th>\n      <td>200</td>\n      <td>13</td>\n      <td>1</td>\n    </tr>\n    <tr>\n      <th>2</th>\n      <td>300</td>\n      <td>14</td>\n      <td>1</td>\n    </tr>\n    <tr>\n      <th>3</th>\n      <td>400</td>\n      <td>15</td>\n      <td>0</td>\n    </tr>\n    <tr>\n      <th>4</th>\n      <td>500</td>\n      <td>16</td>\n      <td>1</td>\n    </tr>\n  </tbody>\n</table>\n</div>"
     },
     "execution_count": 176,
     "metadata": {},
     "output_type": "execute_result"
    }
   ],
   "source": [
    "pd.concat([features,predictions],axis=1)"
   ],
   "metadata": {
    "collapsed": false,
    "pycharm": {
     "name": "#%%\n"
    }
   }
  },
  {
   "cell_type": "markdown",
   "source": [
    "One-Hot encoding steps\n"
   ],
   "metadata": {
    "collapsed": false,
    "pycharm": {
     "name": "#%% md\n"
    }
   }
  },
  {
   "cell_type": "code",
   "execution_count": 177,
   "outputs": [
    {
     "data": {
      "text/plain": "0    A\n1    A\n2    B\n3    B\n4    C\n5    C\nName: c1, dtype: object"
     },
     "execution_count": 177,
     "metadata": {},
     "output_type": "execute_result"
    }
   ],
   "source": [
    "df_one['c1']"
   ],
   "metadata": {
    "collapsed": false,
    "pycharm": {
     "name": "#%%\n"
    }
   }
  },
  {
   "cell_type": "code",
   "execution_count": 178,
   "outputs": [
    {
     "data": {
      "text/plain": "   A  B  C\n0  1  0  0\n1  1  0  0\n2  0  1  0\n3  0  1  0\n4  0  0  1\n5  0  0  1",
      "text/html": "<div>\n<style scoped>\n    .dataframe tbody tr th:only-of-type {\n        vertical-align: middle;\n    }\n\n    .dataframe tbody tr th {\n        vertical-align: top;\n    }\n\n    .dataframe thead th {\n        text-align: right;\n    }\n</style>\n<table border=\"1\" class=\"dataframe\">\n  <thead>\n    <tr style=\"text-align: right;\">\n      <th></th>\n      <th>A</th>\n      <th>B</th>\n      <th>C</th>\n    </tr>\n  </thead>\n  <tbody>\n    <tr>\n      <th>0</th>\n      <td>1</td>\n      <td>0</td>\n      <td>0</td>\n    </tr>\n    <tr>\n      <th>1</th>\n      <td>1</td>\n      <td>0</td>\n      <td>0</td>\n    </tr>\n    <tr>\n      <th>2</th>\n      <td>0</td>\n      <td>1</td>\n      <td>0</td>\n    </tr>\n    <tr>\n      <th>3</th>\n      <td>0</td>\n      <td>1</td>\n      <td>0</td>\n    </tr>\n    <tr>\n      <th>4</th>\n      <td>0</td>\n      <td>0</td>\n      <td>1</td>\n    </tr>\n    <tr>\n      <th>5</th>\n      <td>0</td>\n      <td>0</td>\n      <td>1</td>\n    </tr>\n  </tbody>\n</table>\n</div>"
     },
     "execution_count": 178,
     "metadata": {},
     "output_type": "execute_result"
    }
   ],
   "source": [
    "pd.get_dummies(df_one['c1'])"
   ],
   "metadata": {
    "collapsed": false,
    "pycharm": {
     "name": "#%%\n"
    }
   }
  },
  {
   "cell_type": "code",
   "execution_count": null,
   "outputs": [],
   "source": [],
   "metadata": {
    "collapsed": false,
    "pycharm": {
     "name": "#%%\n"
    }
   }
  }
 ],
 "metadata": {
  "kernelspec": {
   "display_name": "Python 3",
   "language": "python",
   "name": "python3"
  },
  "language_info": {
   "codemirror_mode": {
    "name": "ipython",
    "version": 2
   },
   "file_extension": ".py",
   "mimetype": "text/x-python",
   "name": "python",
   "nbconvert_exporter": "python",
   "pygments_lexer": "ipython2",
   "version": "2.7.6"
  }
 },
 "nbformat": 4,
 "nbformat_minor": 0
}